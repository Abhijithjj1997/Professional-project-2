{
  "nbformat": 4,
  "nbformat_minor": 0,
  "metadata": {
    "colab": {
      "name": "Mini Project",
      "provenance": [],
      "authorship_tag": "ABX9TyOPqSOFsxusKNCZVo5QjscS",
      "include_colab_link": true
    },
    "kernelspec": {
      "name": "python3",
      "display_name": "Python 3"
    },
    "language_info": {
      "name": "python"
    }
  },
  "cells": [
    {
      "cell_type": "markdown",
      "metadata": {
        "id": "view-in-github",
        "colab_type": "text"
      },
      "source": [
        "<a href=\"https://colab.research.google.com/github/Abhijithjj1997/Professional-project-2/blob/main/Mini_Project.ipynb\" target=\"_parent\"><img src=\"https://colab.research.google.com/assets/colab-badge.svg\" alt=\"Open In Colab\"/></a>"
      ]
    },
    {
      "cell_type": "code",
      "execution_count": null,
      "metadata": {
        "id": "OrHwTvJ8S8wr"
      },
      "outputs": [],
      "source": [
        "import pandas as pd\n",
        "import numpy as np\n",
        "import matplotlib.pyplot as plt"
      ]
    },
    {
      "cell_type": "code",
      "source": [
        "df=pd.read_csv(\"/content/credit_card.csv\")"
      ],
      "metadata": {
        "id": "8_1cdG0QTy3n"
      },
      "execution_count": null,
      "outputs": []
    },
    {
      "cell_type": "code",
      "source": [
        "df.shape"
      ],
      "metadata": {
        "colab": {
          "base_uri": "https://localhost:8080/"
        },
        "id": "gRPCZdoPkh-1",
        "outputId": "f800a101-8953-4d13-92ab-66d46aaedf7d"
      },
      "execution_count": null,
      "outputs": [
        {
          "output_type": "execute_result",
          "data": {
            "text/plain": [
              "(8950, 18)"
            ]
          },
          "metadata": {},
          "execution_count": 3
        }
      ]
    },
    {
      "cell_type": "code",
      "source": [
        "np.sqrt(8950)"
      ],
      "metadata": {
        "colab": {
          "base_uri": "https://localhost:8080/"
        },
        "id": "HNERUSiqklMc",
        "outputId": "aaba0028-9db6-4e3e-f7b7-b022804afd09"
      },
      "execution_count": null,
      "outputs": [
        {
          "output_type": "execute_result",
          "data": {
            "text/plain": [
              "94.6044396421225"
            ]
          },
          "metadata": {},
          "execution_count": 4
        }
      ]
    },
    {
      "cell_type": "code",
      "source": [
        "df.head()"
      ],
      "metadata": {
        "colab": {
          "base_uri": "https://localhost:8080/",
          "height": 270
        },
        "id": "wrI7XLiPT-Tf",
        "outputId": "f4d9e528-8bdb-4d8b-ca9f-43da7bf55b9b"
      },
      "execution_count": null,
      "outputs": [
        {
          "output_type": "execute_result",
          "data": {
            "text/html": [
              "\n",
              "  <div id=\"df-7782d2b8-62c7-4fb1-8787-9fade0e094a2\">\n",
              "    <div class=\"colab-df-container\">\n",
              "      <div>\n",
              "<style scoped>\n",
              "    .dataframe tbody tr th:only-of-type {\n",
              "        vertical-align: middle;\n",
              "    }\n",
              "\n",
              "    .dataframe tbody tr th {\n",
              "        vertical-align: top;\n",
              "    }\n",
              "\n",
              "    .dataframe thead th {\n",
              "        text-align: right;\n",
              "    }\n",
              "</style>\n",
              "<table border=\"1\" class=\"dataframe\">\n",
              "  <thead>\n",
              "    <tr style=\"text-align: right;\">\n",
              "      <th></th>\n",
              "      <th>CUST_ID</th>\n",
              "      <th>BALANCE</th>\n",
              "      <th>BALANCE_FREQUENCY</th>\n",
              "      <th>PURCHASES</th>\n",
              "      <th>ONEOFF_PURCHASES</th>\n",
              "      <th>INSTALLMENTS_PURCHASES</th>\n",
              "      <th>CASH_ADVANCE</th>\n",
              "      <th>PURCHASES_FREQUENCY</th>\n",
              "      <th>ONEOFF_PURCHASES_FREQUENCY</th>\n",
              "      <th>PURCHASES_INSTALLMENTS_FREQUENCY</th>\n",
              "      <th>CASH_ADVANCE_FREQUENCY</th>\n",
              "      <th>CASH_ADVANCE_TRX</th>\n",
              "      <th>PURCHASES_TRX</th>\n",
              "      <th>CREDIT_LIMIT</th>\n",
              "      <th>PAYMENTS</th>\n",
              "      <th>MINIMUM_PAYMENTS</th>\n",
              "      <th>PRC_FULL_PAYMENT</th>\n",
              "      <th>TENURE</th>\n",
              "    </tr>\n",
              "  </thead>\n",
              "  <tbody>\n",
              "    <tr>\n",
              "      <th>0</th>\n",
              "      <td>C10001</td>\n",
              "      <td>40.900749</td>\n",
              "      <td>0.818182</td>\n",
              "      <td>95.40</td>\n",
              "      <td>0.00</td>\n",
              "      <td>95.4</td>\n",
              "      <td>0.000000</td>\n",
              "      <td>0.166667</td>\n",
              "      <td>0.000000</td>\n",
              "      <td>0.083333</td>\n",
              "      <td>0.000000</td>\n",
              "      <td>0</td>\n",
              "      <td>2</td>\n",
              "      <td>1000.0</td>\n",
              "      <td>201.802084</td>\n",
              "      <td>139.509787</td>\n",
              "      <td>0.000000</td>\n",
              "      <td>12</td>\n",
              "    </tr>\n",
              "    <tr>\n",
              "      <th>1</th>\n",
              "      <td>C10002</td>\n",
              "      <td>3202.467416</td>\n",
              "      <td>0.909091</td>\n",
              "      <td>0.00</td>\n",
              "      <td>0.00</td>\n",
              "      <td>0.0</td>\n",
              "      <td>6442.945483</td>\n",
              "      <td>0.000000</td>\n",
              "      <td>0.000000</td>\n",
              "      <td>0.000000</td>\n",
              "      <td>0.250000</td>\n",
              "      <td>4</td>\n",
              "      <td>0</td>\n",
              "      <td>7000.0</td>\n",
              "      <td>4103.032597</td>\n",
              "      <td>1072.340217</td>\n",
              "      <td>0.222222</td>\n",
              "      <td>12</td>\n",
              "    </tr>\n",
              "    <tr>\n",
              "      <th>2</th>\n",
              "      <td>C10003</td>\n",
              "      <td>2495.148862</td>\n",
              "      <td>1.000000</td>\n",
              "      <td>773.17</td>\n",
              "      <td>773.17</td>\n",
              "      <td>0.0</td>\n",
              "      <td>0.000000</td>\n",
              "      <td>1.000000</td>\n",
              "      <td>1.000000</td>\n",
              "      <td>0.000000</td>\n",
              "      <td>0.000000</td>\n",
              "      <td>0</td>\n",
              "      <td>12</td>\n",
              "      <td>7500.0</td>\n",
              "      <td>622.066742</td>\n",
              "      <td>627.284787</td>\n",
              "      <td>0.000000</td>\n",
              "      <td>12</td>\n",
              "    </tr>\n",
              "    <tr>\n",
              "      <th>3</th>\n",
              "      <td>C10004</td>\n",
              "      <td>1666.670542</td>\n",
              "      <td>0.636364</td>\n",
              "      <td>1499.00</td>\n",
              "      <td>1499.00</td>\n",
              "      <td>0.0</td>\n",
              "      <td>205.788017</td>\n",
              "      <td>0.083333</td>\n",
              "      <td>0.083333</td>\n",
              "      <td>0.000000</td>\n",
              "      <td>0.083333</td>\n",
              "      <td>1</td>\n",
              "      <td>1</td>\n",
              "      <td>7500.0</td>\n",
              "      <td>0.000000</td>\n",
              "      <td>NaN</td>\n",
              "      <td>0.000000</td>\n",
              "      <td>12</td>\n",
              "    </tr>\n",
              "    <tr>\n",
              "      <th>4</th>\n",
              "      <td>C10005</td>\n",
              "      <td>817.714335</td>\n",
              "      <td>1.000000</td>\n",
              "      <td>16.00</td>\n",
              "      <td>16.00</td>\n",
              "      <td>0.0</td>\n",
              "      <td>0.000000</td>\n",
              "      <td>0.083333</td>\n",
              "      <td>0.083333</td>\n",
              "      <td>0.000000</td>\n",
              "      <td>0.000000</td>\n",
              "      <td>0</td>\n",
              "      <td>1</td>\n",
              "      <td>1200.0</td>\n",
              "      <td>678.334763</td>\n",
              "      <td>244.791237</td>\n",
              "      <td>0.000000</td>\n",
              "      <td>12</td>\n",
              "    </tr>\n",
              "  </tbody>\n",
              "</table>\n",
              "</div>\n",
              "      <button class=\"colab-df-convert\" onclick=\"convertToInteractive('df-7782d2b8-62c7-4fb1-8787-9fade0e094a2')\"\n",
              "              title=\"Convert this dataframe to an interactive table.\"\n",
              "              style=\"display:none;\">\n",
              "        \n",
              "  <svg xmlns=\"http://www.w3.org/2000/svg\" height=\"24px\"viewBox=\"0 0 24 24\"\n",
              "       width=\"24px\">\n",
              "    <path d=\"M0 0h24v24H0V0z\" fill=\"none\"/>\n",
              "    <path d=\"M18.56 5.44l.94 2.06.94-2.06 2.06-.94-2.06-.94-.94-2.06-.94 2.06-2.06.94zm-11 1L8.5 8.5l.94-2.06 2.06-.94-2.06-.94L8.5 2.5l-.94 2.06-2.06.94zm10 10l.94 2.06.94-2.06 2.06-.94-2.06-.94-.94-2.06-.94 2.06-2.06.94z\"/><path d=\"M17.41 7.96l-1.37-1.37c-.4-.4-.92-.59-1.43-.59-.52 0-1.04.2-1.43.59L10.3 9.45l-7.72 7.72c-.78.78-.78 2.05 0 2.83L4 21.41c.39.39.9.59 1.41.59.51 0 1.02-.2 1.41-.59l7.78-7.78 2.81-2.81c.8-.78.8-2.07 0-2.86zM5.41 20L4 18.59l7.72-7.72 1.47 1.35L5.41 20z\"/>\n",
              "  </svg>\n",
              "      </button>\n",
              "      \n",
              "  <style>\n",
              "    .colab-df-container {\n",
              "      display:flex;\n",
              "      flex-wrap:wrap;\n",
              "      gap: 12px;\n",
              "    }\n",
              "\n",
              "    .colab-df-convert {\n",
              "      background-color: #E8F0FE;\n",
              "      border: none;\n",
              "      border-radius: 50%;\n",
              "      cursor: pointer;\n",
              "      display: none;\n",
              "      fill: #1967D2;\n",
              "      height: 32px;\n",
              "      padding: 0 0 0 0;\n",
              "      width: 32px;\n",
              "    }\n",
              "\n",
              "    .colab-df-convert:hover {\n",
              "      background-color: #E2EBFA;\n",
              "      box-shadow: 0px 1px 2px rgba(60, 64, 67, 0.3), 0px 1px 3px 1px rgba(60, 64, 67, 0.15);\n",
              "      fill: #174EA6;\n",
              "    }\n",
              "\n",
              "    [theme=dark] .colab-df-convert {\n",
              "      background-color: #3B4455;\n",
              "      fill: #D2E3FC;\n",
              "    }\n",
              "\n",
              "    [theme=dark] .colab-df-convert:hover {\n",
              "      background-color: #434B5C;\n",
              "      box-shadow: 0px 1px 3px 1px rgba(0, 0, 0, 0.15);\n",
              "      filter: drop-shadow(0px 1px 2px rgba(0, 0, 0, 0.3));\n",
              "      fill: #FFFFFF;\n",
              "    }\n",
              "  </style>\n",
              "\n",
              "      <script>\n",
              "        const buttonEl =\n",
              "          document.querySelector('#df-7782d2b8-62c7-4fb1-8787-9fade0e094a2 button.colab-df-convert');\n",
              "        buttonEl.style.display =\n",
              "          google.colab.kernel.accessAllowed ? 'block' : 'none';\n",
              "\n",
              "        async function convertToInteractive(key) {\n",
              "          const element = document.querySelector('#df-7782d2b8-62c7-4fb1-8787-9fade0e094a2');\n",
              "          const dataTable =\n",
              "            await google.colab.kernel.invokeFunction('convertToInteractive',\n",
              "                                                     [key], {});\n",
              "          if (!dataTable) return;\n",
              "\n",
              "          const docLinkHtml = 'Like what you see? Visit the ' +\n",
              "            '<a target=\"_blank\" href=https://colab.research.google.com/notebooks/data_table.ipynb>data table notebook</a>'\n",
              "            + ' to learn more about interactive tables.';\n",
              "          element.innerHTML = '';\n",
              "          dataTable['output_type'] = 'display_data';\n",
              "          await google.colab.output.renderOutput(dataTable, element);\n",
              "          const docLink = document.createElement('div');\n",
              "          docLink.innerHTML = docLinkHtml;\n",
              "          element.appendChild(docLink);\n",
              "        }\n",
              "      </script>\n",
              "    </div>\n",
              "  </div>\n",
              "  "
            ],
            "text/plain": [
              "  CUST_ID      BALANCE  BALANCE_FREQUENCY  PURCHASES  ONEOFF_PURCHASES  \\\n",
              "0  C10001    40.900749           0.818182      95.40              0.00   \n",
              "1  C10002  3202.467416           0.909091       0.00              0.00   \n",
              "2  C10003  2495.148862           1.000000     773.17            773.17   \n",
              "3  C10004  1666.670542           0.636364    1499.00           1499.00   \n",
              "4  C10005   817.714335           1.000000      16.00             16.00   \n",
              "\n",
              "   INSTALLMENTS_PURCHASES  CASH_ADVANCE  PURCHASES_FREQUENCY  \\\n",
              "0                    95.4      0.000000             0.166667   \n",
              "1                     0.0   6442.945483             0.000000   \n",
              "2                     0.0      0.000000             1.000000   \n",
              "3                     0.0    205.788017             0.083333   \n",
              "4                     0.0      0.000000             0.083333   \n",
              "\n",
              "   ONEOFF_PURCHASES_FREQUENCY  PURCHASES_INSTALLMENTS_FREQUENCY  \\\n",
              "0                    0.000000                          0.083333   \n",
              "1                    0.000000                          0.000000   \n",
              "2                    1.000000                          0.000000   \n",
              "3                    0.083333                          0.000000   \n",
              "4                    0.083333                          0.000000   \n",
              "\n",
              "   CASH_ADVANCE_FREQUENCY  CASH_ADVANCE_TRX  PURCHASES_TRX  CREDIT_LIMIT  \\\n",
              "0                0.000000                 0              2        1000.0   \n",
              "1                0.250000                 4              0        7000.0   \n",
              "2                0.000000                 0             12        7500.0   \n",
              "3                0.083333                 1              1        7500.0   \n",
              "4                0.000000                 0              1        1200.0   \n",
              "\n",
              "      PAYMENTS  MINIMUM_PAYMENTS  PRC_FULL_PAYMENT  TENURE  \n",
              "0   201.802084        139.509787          0.000000      12  \n",
              "1  4103.032597       1072.340217          0.222222      12  \n",
              "2   622.066742        627.284787          0.000000      12  \n",
              "3     0.000000               NaN          0.000000      12  \n",
              "4   678.334763        244.791237          0.000000      12  "
            ]
          },
          "metadata": {},
          "execution_count": 4
        }
      ]
    },
    {
      "cell_type": "code",
      "source": [
        "df.isnull().sum()"
      ],
      "metadata": {
        "colab": {
          "base_uri": "https://localhost:8080/"
        },
        "id": "WVY4lhMdT9sD",
        "outputId": "9b02d754-667a-4234-c5b5-4c5f13696f71"
      },
      "execution_count": null,
      "outputs": [
        {
          "output_type": "execute_result",
          "data": {
            "text/plain": [
              "CUST_ID                               0\n",
              "BALANCE                               0\n",
              "BALANCE_FREQUENCY                     0\n",
              "PURCHASES                             0\n",
              "ONEOFF_PURCHASES                      0\n",
              "INSTALLMENTS_PURCHASES                0\n",
              "CASH_ADVANCE                          0\n",
              "PURCHASES_FREQUENCY                   0\n",
              "ONEOFF_PURCHASES_FREQUENCY            0\n",
              "PURCHASES_INSTALLMENTS_FREQUENCY      0\n",
              "CASH_ADVANCE_FREQUENCY                0\n",
              "CASH_ADVANCE_TRX                      0\n",
              "PURCHASES_TRX                         0\n",
              "CREDIT_LIMIT                          1\n",
              "PAYMENTS                              0\n",
              "MINIMUM_PAYMENTS                    313\n",
              "PRC_FULL_PAYMENT                      0\n",
              "TENURE                                0\n",
              "dtype: int64"
            ]
          },
          "metadata": {},
          "execution_count": 5
        }
      ]
    },
    {
      "cell_type": "code",
      "source": [
        "df['MINIMUM_PAYMENTS'].value_counts()"
      ],
      "metadata": {
        "colab": {
          "base_uri": "https://localhost:8080/"
        },
        "id": "JK1XGmL4US0I",
        "outputId": "3592315e-afd8-4e4f-d439-8300ba838164"
      },
      "execution_count": null,
      "outputs": [
        {
          "output_type": "execute_result",
          "data": {
            "text/plain": [
              "299.351881    2\n",
              "342.286490    1\n",
              "184.464721    1\n",
              "276.486072    1\n",
              "309.140865    1\n",
              "             ..\n",
              "181.773223    1\n",
              "711.894455    1\n",
              "256.522546    1\n",
              "127.799107    1\n",
              "88.288956     1\n",
              "Name: MINIMUM_PAYMENTS, Length: 8636, dtype: int64"
            ]
          },
          "metadata": {},
          "execution_count": 6
        }
      ]
    },
    {
      "cell_type": "code",
      "source": [
        "df['MINIMUM_PAYMENTS'].mean()"
      ],
      "metadata": {
        "colab": {
          "base_uri": "https://localhost:8080/"
        },
        "id": "KJkwejUKUivC",
        "outputId": "07ddb4e1-319b-438c-a6c0-7d4072026b39"
      },
      "execution_count": null,
      "outputs": [
        {
          "output_type": "execute_result",
          "data": {
            "text/plain": [
              "864.2065423050816"
            ]
          },
          "metadata": {},
          "execution_count": 7
        }
      ]
    },
    {
      "cell_type": "code",
      "source": [
        "df['MINIMUM_PAYMENTS'].median()"
      ],
      "metadata": {
        "colab": {
          "base_uri": "https://localhost:8080/"
        },
        "id": "aieNblAxUrSn",
        "outputId": "d4c53251-df92-4fd3-e546-6036ad322340"
      },
      "execution_count": null,
      "outputs": [
        {
          "output_type": "execute_result",
          "data": {
            "text/plain": [
              "312.343947"
            ]
          },
          "metadata": {},
          "execution_count": 3
        }
      ]
    },
    {
      "cell_type": "code",
      "source": [
        "med=df['MINIMUM_PAYMENTS'].median()\n",
        "df['MINIMUM_PAYMENTS'].fillna(med, inplace=True)\n",
        "df.head()"
      ],
      "metadata": {
        "colab": {
          "base_uri": "https://localhost:8080/",
          "height": 270
        },
        "id": "sWOSPC7DWTwh",
        "outputId": "9fe5a23a-5853-403d-f0f1-65b2309e0119"
      },
      "execution_count": null,
      "outputs": [
        {
          "output_type": "execute_result",
          "data": {
            "text/plain": [
              "  CUST_ID      BALANCE  BALANCE_FREQUENCY  PURCHASES  ONEOFF_PURCHASES  \\\n",
              "0  C10001    40.900749           0.818182      95.40              0.00   \n",
              "1  C10002  3202.467416           0.909091       0.00              0.00   \n",
              "2  C10003  2495.148862           1.000000     773.17            773.17   \n",
              "3  C10004  1666.670542           0.636364    1499.00           1499.00   \n",
              "4  C10005   817.714335           1.000000      16.00             16.00   \n",
              "\n",
              "   INSTALLMENTS_PURCHASES  CASH_ADVANCE  PURCHASES_FREQUENCY  \\\n",
              "0                    95.4      0.000000             0.166667   \n",
              "1                     0.0   6442.945483             0.000000   \n",
              "2                     0.0      0.000000             1.000000   \n",
              "3                     0.0    205.788017             0.083333   \n",
              "4                     0.0      0.000000             0.083333   \n",
              "\n",
              "   ONEOFF_PURCHASES_FREQUENCY  PURCHASES_INSTALLMENTS_FREQUENCY  \\\n",
              "0                    0.000000                          0.083333   \n",
              "1                    0.000000                          0.000000   \n",
              "2                    1.000000                          0.000000   \n",
              "3                    0.083333                          0.000000   \n",
              "4                    0.083333                          0.000000   \n",
              "\n",
              "   CASH_ADVANCE_FREQUENCY  CASH_ADVANCE_TRX  PURCHASES_TRX  CREDIT_LIMIT  \\\n",
              "0                0.000000                 0              2        1000.0   \n",
              "1                0.250000                 4              0        7000.0   \n",
              "2                0.000000                 0             12        7500.0   \n",
              "3                0.083333                 1              1        7500.0   \n",
              "4                0.000000                 0              1        1200.0   \n",
              "\n",
              "      PAYMENTS  MINIMUM_PAYMENTS  PRC_FULL_PAYMENT  TENURE  \n",
              "0   201.802084        139.509787          0.000000      12  \n",
              "1  4103.032597       1072.340217          0.222222      12  \n",
              "2   622.066742        627.284787          0.000000      12  \n",
              "3     0.000000        312.343947          0.000000      12  \n",
              "4   678.334763        244.791237          0.000000      12  "
            ],
            "text/html": [
              "\n",
              "  <div id=\"df-04f01f3b-736f-490f-9d6a-a3b6eca9e48e\">\n",
              "    <div class=\"colab-df-container\">\n",
              "      <div>\n",
              "<style scoped>\n",
              "    .dataframe tbody tr th:only-of-type {\n",
              "        vertical-align: middle;\n",
              "    }\n",
              "\n",
              "    .dataframe tbody tr th {\n",
              "        vertical-align: top;\n",
              "    }\n",
              "\n",
              "    .dataframe thead th {\n",
              "        text-align: right;\n",
              "    }\n",
              "</style>\n",
              "<table border=\"1\" class=\"dataframe\">\n",
              "  <thead>\n",
              "    <tr style=\"text-align: right;\">\n",
              "      <th></th>\n",
              "      <th>CUST_ID</th>\n",
              "      <th>BALANCE</th>\n",
              "      <th>BALANCE_FREQUENCY</th>\n",
              "      <th>PURCHASES</th>\n",
              "      <th>ONEOFF_PURCHASES</th>\n",
              "      <th>INSTALLMENTS_PURCHASES</th>\n",
              "      <th>CASH_ADVANCE</th>\n",
              "      <th>PURCHASES_FREQUENCY</th>\n",
              "      <th>ONEOFF_PURCHASES_FREQUENCY</th>\n",
              "      <th>PURCHASES_INSTALLMENTS_FREQUENCY</th>\n",
              "      <th>CASH_ADVANCE_FREQUENCY</th>\n",
              "      <th>CASH_ADVANCE_TRX</th>\n",
              "      <th>PURCHASES_TRX</th>\n",
              "      <th>CREDIT_LIMIT</th>\n",
              "      <th>PAYMENTS</th>\n",
              "      <th>MINIMUM_PAYMENTS</th>\n",
              "      <th>PRC_FULL_PAYMENT</th>\n",
              "      <th>TENURE</th>\n",
              "    </tr>\n",
              "  </thead>\n",
              "  <tbody>\n",
              "    <tr>\n",
              "      <th>0</th>\n",
              "      <td>C10001</td>\n",
              "      <td>40.900749</td>\n",
              "      <td>0.818182</td>\n",
              "      <td>95.40</td>\n",
              "      <td>0.00</td>\n",
              "      <td>95.4</td>\n",
              "      <td>0.000000</td>\n",
              "      <td>0.166667</td>\n",
              "      <td>0.000000</td>\n",
              "      <td>0.083333</td>\n",
              "      <td>0.000000</td>\n",
              "      <td>0</td>\n",
              "      <td>2</td>\n",
              "      <td>1000.0</td>\n",
              "      <td>201.802084</td>\n",
              "      <td>139.509787</td>\n",
              "      <td>0.000000</td>\n",
              "      <td>12</td>\n",
              "    </tr>\n",
              "    <tr>\n",
              "      <th>1</th>\n",
              "      <td>C10002</td>\n",
              "      <td>3202.467416</td>\n",
              "      <td>0.909091</td>\n",
              "      <td>0.00</td>\n",
              "      <td>0.00</td>\n",
              "      <td>0.0</td>\n",
              "      <td>6442.945483</td>\n",
              "      <td>0.000000</td>\n",
              "      <td>0.000000</td>\n",
              "      <td>0.000000</td>\n",
              "      <td>0.250000</td>\n",
              "      <td>4</td>\n",
              "      <td>0</td>\n",
              "      <td>7000.0</td>\n",
              "      <td>4103.032597</td>\n",
              "      <td>1072.340217</td>\n",
              "      <td>0.222222</td>\n",
              "      <td>12</td>\n",
              "    </tr>\n",
              "    <tr>\n",
              "      <th>2</th>\n",
              "      <td>C10003</td>\n",
              "      <td>2495.148862</td>\n",
              "      <td>1.000000</td>\n",
              "      <td>773.17</td>\n",
              "      <td>773.17</td>\n",
              "      <td>0.0</td>\n",
              "      <td>0.000000</td>\n",
              "      <td>1.000000</td>\n",
              "      <td>1.000000</td>\n",
              "      <td>0.000000</td>\n",
              "      <td>0.000000</td>\n",
              "      <td>0</td>\n",
              "      <td>12</td>\n",
              "      <td>7500.0</td>\n",
              "      <td>622.066742</td>\n",
              "      <td>627.284787</td>\n",
              "      <td>0.000000</td>\n",
              "      <td>12</td>\n",
              "    </tr>\n",
              "    <tr>\n",
              "      <th>3</th>\n",
              "      <td>C10004</td>\n",
              "      <td>1666.670542</td>\n",
              "      <td>0.636364</td>\n",
              "      <td>1499.00</td>\n",
              "      <td>1499.00</td>\n",
              "      <td>0.0</td>\n",
              "      <td>205.788017</td>\n",
              "      <td>0.083333</td>\n",
              "      <td>0.083333</td>\n",
              "      <td>0.000000</td>\n",
              "      <td>0.083333</td>\n",
              "      <td>1</td>\n",
              "      <td>1</td>\n",
              "      <td>7500.0</td>\n",
              "      <td>0.000000</td>\n",
              "      <td>312.343947</td>\n",
              "      <td>0.000000</td>\n",
              "      <td>12</td>\n",
              "    </tr>\n",
              "    <tr>\n",
              "      <th>4</th>\n",
              "      <td>C10005</td>\n",
              "      <td>817.714335</td>\n",
              "      <td>1.000000</td>\n",
              "      <td>16.00</td>\n",
              "      <td>16.00</td>\n",
              "      <td>0.0</td>\n",
              "      <td>0.000000</td>\n",
              "      <td>0.083333</td>\n",
              "      <td>0.083333</td>\n",
              "      <td>0.000000</td>\n",
              "      <td>0.000000</td>\n",
              "      <td>0</td>\n",
              "      <td>1</td>\n",
              "      <td>1200.0</td>\n",
              "      <td>678.334763</td>\n",
              "      <td>244.791237</td>\n",
              "      <td>0.000000</td>\n",
              "      <td>12</td>\n",
              "    </tr>\n",
              "  </tbody>\n",
              "</table>\n",
              "</div>\n",
              "      <button class=\"colab-df-convert\" onclick=\"convertToInteractive('df-04f01f3b-736f-490f-9d6a-a3b6eca9e48e')\"\n",
              "              title=\"Convert this dataframe to an interactive table.\"\n",
              "              style=\"display:none;\">\n",
              "        \n",
              "  <svg xmlns=\"http://www.w3.org/2000/svg\" height=\"24px\"viewBox=\"0 0 24 24\"\n",
              "       width=\"24px\">\n",
              "    <path d=\"M0 0h24v24H0V0z\" fill=\"none\"/>\n",
              "    <path d=\"M18.56 5.44l.94 2.06.94-2.06 2.06-.94-2.06-.94-.94-2.06-.94 2.06-2.06.94zm-11 1L8.5 8.5l.94-2.06 2.06-.94-2.06-.94L8.5 2.5l-.94 2.06-2.06.94zm10 10l.94 2.06.94-2.06 2.06-.94-2.06-.94-.94-2.06-.94 2.06-2.06.94z\"/><path d=\"M17.41 7.96l-1.37-1.37c-.4-.4-.92-.59-1.43-.59-.52 0-1.04.2-1.43.59L10.3 9.45l-7.72 7.72c-.78.78-.78 2.05 0 2.83L4 21.41c.39.39.9.59 1.41.59.51 0 1.02-.2 1.41-.59l7.78-7.78 2.81-2.81c.8-.78.8-2.07 0-2.86zM5.41 20L4 18.59l7.72-7.72 1.47 1.35L5.41 20z\"/>\n",
              "  </svg>\n",
              "      </button>\n",
              "      \n",
              "  <style>\n",
              "    .colab-df-container {\n",
              "      display:flex;\n",
              "      flex-wrap:wrap;\n",
              "      gap: 12px;\n",
              "    }\n",
              "\n",
              "    .colab-df-convert {\n",
              "      background-color: #E8F0FE;\n",
              "      border: none;\n",
              "      border-radius: 50%;\n",
              "      cursor: pointer;\n",
              "      display: none;\n",
              "      fill: #1967D2;\n",
              "      height: 32px;\n",
              "      padding: 0 0 0 0;\n",
              "      width: 32px;\n",
              "    }\n",
              "\n",
              "    .colab-df-convert:hover {\n",
              "      background-color: #E2EBFA;\n",
              "      box-shadow: 0px 1px 2px rgba(60, 64, 67, 0.3), 0px 1px 3px 1px rgba(60, 64, 67, 0.15);\n",
              "      fill: #174EA6;\n",
              "    }\n",
              "\n",
              "    [theme=dark] .colab-df-convert {\n",
              "      background-color: #3B4455;\n",
              "      fill: #D2E3FC;\n",
              "    }\n",
              "\n",
              "    [theme=dark] .colab-df-convert:hover {\n",
              "      background-color: #434B5C;\n",
              "      box-shadow: 0px 1px 3px 1px rgba(0, 0, 0, 0.15);\n",
              "      filter: drop-shadow(0px 1px 2px rgba(0, 0, 0, 0.3));\n",
              "      fill: #FFFFFF;\n",
              "    }\n",
              "  </style>\n",
              "\n",
              "      <script>\n",
              "        const buttonEl =\n",
              "          document.querySelector('#df-04f01f3b-736f-490f-9d6a-a3b6eca9e48e button.colab-df-convert');\n",
              "        buttonEl.style.display =\n",
              "          google.colab.kernel.accessAllowed ? 'block' : 'none';\n",
              "\n",
              "        async function convertToInteractive(key) {\n",
              "          const element = document.querySelector('#df-04f01f3b-736f-490f-9d6a-a3b6eca9e48e');\n",
              "          const dataTable =\n",
              "            await google.colab.kernel.invokeFunction('convertToInteractive',\n",
              "                                                     [key], {});\n",
              "          if (!dataTable) return;\n",
              "\n",
              "          const docLinkHtml = 'Like what you see? Visit the ' +\n",
              "            '<a target=\"_blank\" href=https://colab.research.google.com/notebooks/data_table.ipynb>data table notebook</a>'\n",
              "            + ' to learn more about interactive tables.';\n",
              "          element.innerHTML = '';\n",
              "          dataTable['output_type'] = 'display_data';\n",
              "          await google.colab.output.renderOutput(dataTable, element);\n",
              "          const docLink = document.createElement('div');\n",
              "          docLink.innerHTML = docLinkHtml;\n",
              "          element.appendChild(docLink);\n",
              "        }\n",
              "      </script>\n",
              "    </div>\n",
              "  </div>\n",
              "  "
            ]
          },
          "metadata": {},
          "execution_count": 4
        }
      ]
    },
    {
      "cell_type": "code",
      "source": [
        ""
      ],
      "metadata": {
        "id": "u8vNofsPN7Ot"
      },
      "execution_count": null,
      "outputs": []
    },
    {
      "cell_type": "code",
      "source": [
        "df.isnull().sum()"
      ],
      "metadata": {
        "colab": {
          "base_uri": "https://localhost:8080/"
        },
        "id": "wGvqJlV3WuJY",
        "outputId": "73c10088-b621-4a61-d518-efd09c67244a"
      },
      "execution_count": null,
      "outputs": [
        {
          "output_type": "execute_result",
          "data": {
            "text/plain": [
              "CUST_ID                             0\n",
              "BALANCE                             0\n",
              "BALANCE_FREQUENCY                   0\n",
              "PURCHASES                           0\n",
              "ONEOFF_PURCHASES                    0\n",
              "INSTALLMENTS_PURCHASES              0\n",
              "CASH_ADVANCE                        0\n",
              "PURCHASES_FREQUENCY                 0\n",
              "ONEOFF_PURCHASES_FREQUENCY          0\n",
              "PURCHASES_INSTALLMENTS_FREQUENCY    0\n",
              "CASH_ADVANCE_FREQUENCY              0\n",
              "CASH_ADVANCE_TRX                    0\n",
              "PURCHASES_TRX                       0\n",
              "CREDIT_LIMIT                        1\n",
              "PAYMENTS                            0\n",
              "MINIMUM_PAYMENTS                    0\n",
              "PRC_FULL_PAYMENT                    0\n",
              "TENURE                              0\n",
              "dtype: int64"
            ]
          },
          "metadata": {},
          "execution_count": 10
        }
      ]
    },
    {
      "cell_type": "code",
      "source": [
        "df['CREDIT_LIMIT'\t].value_counts()"
      ],
      "metadata": {
        "colab": {
          "base_uri": "https://localhost:8080/"
        },
        "id": "ytqY7NSGW4Gk",
        "outputId": "f5769791-625c-4620-bd03-6ee0bfe8225e"
      },
      "execution_count": null,
      "outputs": [
        {
          "output_type": "execute_result",
          "data": {
            "text/plain": [
              "3000.000000     784\n",
              "1500.000000     722\n",
              "1200.000000     621\n",
              "1000.000000     614\n",
              "2500.000000     612\n",
              "               ... \n",
              "9200.000000       1\n",
              "13550.000000      1\n",
              "7227.272727       1\n",
              "11250.000000      1\n",
              "1833.333333       1\n",
              "Name: CREDIT_LIMIT, Length: 205, dtype: int64"
            ]
          },
          "metadata": {},
          "execution_count": 11
        }
      ]
    },
    {
      "cell_type": "code",
      "source": [
        "med1=df['CREDIT_LIMIT'].median()\n",
        "df['CREDIT_LIMIT'].fillna(med1, inplace=True)\n"
      ],
      "metadata": {
        "id": "CFBp_4ptea4z"
      },
      "execution_count": null,
      "outputs": []
    },
    {
      "cell_type": "code",
      "source": [
        "df.dtypes"
      ],
      "metadata": {
        "colab": {
          "base_uri": "https://localhost:8080/"
        },
        "id": "otYDHGcYWmxk",
        "outputId": "5eaa9775-f701-4bab-907f-1e58c3fbd0f0"
      },
      "execution_count": null,
      "outputs": [
        {
          "output_type": "execute_result",
          "data": {
            "text/plain": [
              "CUST_ID                              object\n",
              "BALANCE                             float64\n",
              "BALANCE_FREQUENCY                   float64\n",
              "PURCHASES                           float64\n",
              "ONEOFF_PURCHASES                    float64\n",
              "INSTALLMENTS_PURCHASES              float64\n",
              "CASH_ADVANCE                        float64\n",
              "PURCHASES_FREQUENCY                 float64\n",
              "ONEOFF_PURCHASES_FREQUENCY          float64\n",
              "PURCHASES_INSTALLMENTS_FREQUENCY    float64\n",
              "CASH_ADVANCE_FREQUENCY              float64\n",
              "CASH_ADVANCE_TRX                      int64\n",
              "PURCHASES_TRX                         int64\n",
              "CREDIT_LIMIT                        float64\n",
              "PAYMENTS                            float64\n",
              "MINIMUM_PAYMENTS                    float64\n",
              "PRC_FULL_PAYMENT                    float64\n",
              "TENURE                                int64\n",
              "dtype: object"
            ]
          },
          "metadata": {},
          "execution_count": 13
        }
      ]
    },
    {
      "cell_type": "code",
      "source": [
        "df[\"CREDIT_LIMIT\"].describe()"
      ],
      "metadata": {
        "colab": {
          "base_uri": "https://localhost:8080/"
        },
        "id": "FUu2euxRQ7oz",
        "outputId": "ab5112f3-8e52-4a67-8dc0-21364b9a7a31"
      },
      "execution_count": null,
      "outputs": [
        {
          "output_type": "execute_result",
          "data": {
            "text/plain": [
              "count     8950.000000\n",
              "mean      4494.282473\n",
              "std       3638.646702\n",
              "min         50.000000\n",
              "25%       1600.000000\n",
              "50%       3000.000000\n",
              "75%       6500.000000\n",
              "max      30000.000000\n",
              "Name: CREDIT_LIMIT, dtype: float64"
            ]
          },
          "metadata": {},
          "execution_count": 14
        }
      ]
    },
    {
      "cell_type": "code",
      "source": [
        "a=df[\"CREDIT_LIMIT\"]"
      ],
      "metadata": {
        "id": "G98Bn30g2J59"
      },
      "execution_count": null,
      "outputs": []
    },
    {
      "cell_type": "code",
      "source": [
        "#removing outliers\n",
        "q1 = np.quantile(a,0.25)\n",
        "q2 = np.quantile(a,0.5) \n",
        "q3 = np.quantile(a,0.75)\n",
        "iqr = q3 - q1  \n",
        "print('Q2',q2)\n",
        "print('Q3',q3)\n",
        "print('IQR',iqr)\n",
        "max_val = q3 + 1.5*iqr\n",
        "min_val = q1 - 1.5*iqr\n",
        "print('Max',max_val)\n",
        "print('Min',min_val)"
      ],
      "metadata": {
        "colab": {
          "base_uri": "https://localhost:8080/"
        },
        "id": "mDvBaoHSfUTx",
        "outputId": "cd34ccb1-f176-4b01-c0bb-17aff96e8115"
      },
      "execution_count": null,
      "outputs": [
        {
          "output_type": "stream",
          "name": "stdout",
          "text": [
            "Q2 3000.0\n",
            "Q3 6500.0\n",
            "IQR 4900.0\n",
            "Max 13850.0\n",
            "Min -5750.0\n"
          ]
        }
      ]
    },
    {
      "cell_type": "code",
      "source": [
        "a_outliers_removed = [i for i in a if i>min_val and i<max_val]\n",
        "a_outliers = [i for i in a if i<min_val or i>max_val]\n",
        "print('Outliers\\n', a_outliers)\n",
        "print('Dataset after Outliers removed\\n', a_outliers_removed)"
      ],
      "metadata": {
        "colab": {
          "base_uri": "https://localhost:8080/"
        },
        "id": "wWKpBxPM2UmE",
        "outputId": "5c854ef7-d2a5-4df2-f476-de12679d2a1c"
      },
      "execution_count": null,
      "outputs": [
        {
          "output_type": "stream",
          "name": "stdout",
          "text": [
            "Outliers\n",
            " [16500.0, 17000.0, 19000.0, 17000.0, 17000.0, 18000.0, 21500.0, 20000.0, 20000.0, 15000.0, 14000.0, 20000.0, 16500.0, 15000.0, 23000.0, 14000.0, 14500.0, 19500.0, 14000.0, 16500.0, 15000.0, 21000.0, 14000.0, 19500.0, 18500.0, 14000.0, 15000.0, 15000.0, 15000.0, 14500.0, 15000.0, 18000.0, 14000.0, 17000.0, 20000.0, 16500.0, 14500.0, 16500.0, 19000.0, 20000.0, 17500.0, 15000.0, 16500.0, 22500.0, 15000.0, 15000.0, 15000.0, 19000.0, 16000.0, 14500.0, 16000.0, 15000.0, 16500.0, 15500.0, 14000.0, 16000.0, 18000.0, 20000.0, 18000.0, 20000.0, 17500.0, 14000.0, 16000.0, 14500.0, 20000.0, 19000.0, 17500.0, 17000.0, 15000.0, 14500.0, 17000.0, 18500.0, 14000.0, 17500.0, 14000.0, 17000.0, 19500.0, 28000.0, 18500.0, 18000.0, 17000.0, 14000.0, 15500.0, 14500.0, 15500.0, 14000.0, 18000.0, 15500.0, 18000.0, 16500.0, 14500.0, 16000.0, 14500.0, 14500.0, 16000.0, 16000.0, 14000.0, 16500.0, 16000.0, 16500.0, 15500.0, 16500.0, 15000.0, 17000.0, 14500.0, 16500.0, 14000.0, 21500.0, 14500.0, 18000.0, 15000.0, 14500.0, 20500.0, 15500.0, 15000.0, 16000.0, 15000.0, 14000.0, 18000.0, 15500.0, 15500.0, 16000.0, 14500.0, 15000.0, 14000.0, 15000.0, 15500.0, 15000.0, 18000.0, 14000.0, 15000.0, 16000.0, 18500.0, 19600.0, 14000.0, 16000.0, 15000.0, 15000.0, 15500.0, 18000.0, 17500.0, 14000.0, 16500.0, 17000.0, 14500.0, 14000.0, 14000.0, 14000.0, 18500.0, 15000.0, 18000.0, 18500.0, 16000.0, 15500.0, 18000.0, 17000.0, 16500.0, 14500.0, 16500.0, 14500.0, 14000.0, 14500.0, 15000.0, 14000.0, 15000.0, 17500.0, 18000.0, 14600.0, 14500.0, 14500.0, 14000.0, 14500.0, 15000.0, 15000.0, 14000.0, 18000.0, 16500.0, 18000.0, 14500.0, 15000.0, 16500.0, 16000.0, 15500.0, 17000.0, 25000.0, 21000.0, 17500.0, 14000.0, 16500.0, 16500.0, 18000.0, 18000.0, 17500.0, 15000.0, 16500.0, 16500.0, 18000.0, 18500.0, 14000.0, 22000.0, 18000.0, 15000.0, 15500.0, 14000.0, 15500.0, 14500.0, 15000.0, 14000.0, 18500.0, 14000.0, 19500.0, 16500.0, 16500.0, 16500.0, 18000.0, 16500.0, 18000.0, 16500.0, 16500.0, 16500.0, 30000.0, 20000.0, 16000.0, 16000.0, 14000.0, 15000.0, 18500.0, 23000.0, 16000.0, 18000.0, 14000.0, 20000.0, 17000.0, 16000.0, 19000.0, 14500.0, 15000.0, 19500.0, 14500.0, 17500.0, 14500.0, 15500.0, 17150.0, 18000.0, 30000.0, 14500.0, 17500.0, 14000.0]\n",
            "Dataset after Outliers removed\n",
            " [1000.0, 7000.0, 7500.0, 7500.0, 1200.0, 1800.0, 13500.0, 2300.0, 7000.0, 11000.0, 1200.0, 2000.0, 3000.0, 7500.0, 3000.0, 8000.0, 3000.0, 2500.0, 13000.0, 4000.0, 2000.0, 11250.0, 1800.0, 9000.0, 6000.0, 3000.0, 1700.0, 1000.0, 10500.0, 6900.0, 13000.0, 6000.0, 10500.0, 1200.0, 11000.0, 1800.0, 9000.0, 5000.0, 9000.0, 7500.0, 1800.0, 3000.0, 4500.0, 1500.0, 8500.0, 2400.0, 1700.0, 4200.0, 3300.0, 4000.0, 12000.0, 2500.0, 3500.0, 3000.0, 1000.0, 6000.0, 4000.0, 7500.0, 4000.0, 6000.0, 6500.0, 1600.0, 4150.0, 1600.0, 1850.0, 1800.0, 1500.0, 2500.0, 6000.0, 1700.0, 6250.0, 7000.0, 7000.0, 2250.0, 6000.0, 6000.0, 11000.0, 1500.0, 1200.0, 7000.0, 5000.0, 9500.0, 12000.0, 1200.0, 9000.0, 11000.0, 13500.0, 4500.0, 6500.0, 9000.0, 4000.0, 1800.0, 2400.0, 2400.0, 1200.0, 6000.0, 4000.0, 7000.0, 3000.0, 1500.0, 2000.0, 5700.0, 4500.0, 4000.0, 4000.0, 2500.0, 8000.0, 2000.0, 9000.0, 5500.0, 4200.0, 8500.0, 7000.0, 5000.0, 3000.0, 6500.0, 1800.0, 7000.0, 3000.0, 9000.0, 8500.0, 3200.0, 2800.0, 1200.0, 5000.0, 13000.0, 5000.0, 5000.0, 3000.0, 13000.0, 4000.0, 2000.0, 1200.0, 2500.0, 1000.0, 7500.0, 7000.0, 6500.0, 7500.0, 10000.0, 9000.0, 1500.0, 13500.0, 7000.0, 6500.0, 8000.0, 4000.0, 7900.0, 1800.0, 11000.0, 1200.0, 3000.0, 8500.0, 1200.0, 4000.0, 1000.0, 6500.0, 8000.0, 1000.0, 4000.0, 4000.0, 10500.0, 12500.0, 3000.0, 1800.0, 2300.0, 3000.0, 5300.0, 2500.0, 5000.0, 4500.0, 12000.0, 10000.0, 1200.0, 6000.0, 900.0, 2400.0, 1500.0, 6150.0, 6000.0, 4000.0, 4000.0, 11500.0, 8000.0, 8000.0, 6000.0, 2000.0, 4000.0, 7500.0, 4000.0, 1800.0, 10500.0, 11500.0, 5000.0, 10000.0, 7500.0, 7500.0, 6000.0, 4000.0, 7500.0, 1500.0, 11500.0, 2000.0, 8500.0, 10000.0, 7000.0, 2700.0, 8500.0, 4000.0, 4000.0, 8500.0, 1200.0, 1400.0, 2900.0, 5700.0, 2500.0, 3000.0, 8000.0, 12000.0, 10500.0, 5500.0, 1950.0, 7200.0, 4000.0, 8000.0, 5500.0, 3000.0, 3000.0, 12000.0, 1500.0, 12000.0, 12500.0, 4000.0, 1000.0, 2000.0, 11500.0, 6000.0, 1500.0, 10000.0, 11000.0, 13500.0, 1800.0, 9000.0, 4500.0, 3000.0, 10000.0, 9000.0, 7500.0, 6000.0, 7500.0, 9500.0, 10950.0, 8500.0, 7500.0, 11500.0, 1500.0, 2100.0, 5700.0, 10500.0, 8500.0, 13500.0, 1000.0, 9500.0, 2500.0, 3000.0, 7000.0, 3000.0, 5000.0, 6500.0, 6000.0, 10000.0, 6000.0, 5000.0, 4000.0, 6000.0, 2900.0, 6000.0, 12000.0, 3000.0, 500.0, 4000.0, 11000.0, 8000.0, 2700.0, 11000.0, 4500.0, 6000.0, 3500.0, 4500.0, 2100.0, 2500.0, 6000.0, 1000.0, 5500.0, 1000.0, 7000.0, 1950.0, 1500.0, 6000.0, 5700.0, 12500.0, 7500.0, 8000.0, 4500.0, 1500.0, 2500.0, 1000.0, 8500.0, 3000.0, 6000.0, 6500.0, 2300.0, 9500.0, 1200.0, 9000.0, 2500.0, 13500.0, 3200.0, 6000.0, 1500.0, 1800.0, 9500.0, 2000.0, 5500.0, 3000.0, 11000.0, 5000.0, 10500.0, 11500.0, 9500.0, 4800.0, 8500.0, 5000.0, 6000.0, 3000.0, 1800.0, 2400.0, 1500.0, 11000.0, 7300.0, 1200.0, 1200.0, 2300.0, 5500.0, 8000.0, 8000.0, 12000.0, 9000.0, 3000.0, 4500.0, 2000.0, 7000.0, 2500.0, 1400.0, 1600.0, 2000.0, 1500.0, 6000.0, 4000.0, 6000.0, 1800.0, 9000.0, 2500.0, 4000.0, 4000.0, 6550.0, 5000.0, 11000.0, 1000.0, 10000.0, 8500.0, 1200.0, 13000.0, 3500.0, 5000.0, 2000.0, 6000.0, 13000.0, 8000.0, 9000.0, 2500.0, 2100.0, 4500.0, 13500.0, 6200.0, 9500.0, 1200.0, 6000.0, 7000.0, 6000.0, 7500.0, 8000.0, 5000.0, 2000.0, 1500.0, 4500.0, 13500.0, 9000.0, 4000.0, 8000.0, 1800.0, 10000.0, 10000.0, 9000.0, 5000.0, 2500.0, 6000.0, 1500.0, 8000.0, 4500.0, 13000.0, 1200.0, 6000.0, 1800.0, 10500.0, 2500.0, 4500.0, 4500.0, 9500.0, 1800.0, 1200.0, 3150.0, 2500.0, 8500.0, 4500.0, 4000.0, 7500.0, 6000.0, 1500.0, 1800.0, 12000.0, 6000.0, 2500.0, 3000.0, 1700.0, 1200.0, 7500.0, 2400.0, 8500.0, 11800.0, 6000.0, 9000.0, 4000.0, 6500.0, 1800.0, 1200.0, 11300.0, 5000.0, 3500.0, 8500.0, 7000.0, 6500.0, 10000.0, 3000.0, 7000.0, 4000.0, 9500.0, 13000.0, 13000.0, 6000.0, 6000.0, 4500.0, 7000.0, 4500.0, 1700.0, 7500.0, 2750.0, 2400.0, 4000.0, 5000.0, 2500.0, 1500.0, 3000.0, 10300.0, 4500.0, 9500.0, 5000.0, 10500.0, 10000.0, 3000.0, 12500.0, 1500.0, 4500.0, 3000.0, 6500.0, 9500.0, 1200.0, 8000.0, 12500.0, 8000.0, 1500.0, 3000.0, 2850.0, 4000.0, 5500.0, 7500.0, 12000.0, 5000.0, 5000.0, 3000.0, 6000.0, 3000.0, 8500.0, 9500.0, 1800.0, 10500.0, 1500.0, 9000.0, 9500.0, 6000.0, 6750.0, 4500.0, 4000.0, 7000.0, 6000.0, 2500.0, 6000.0, 1500.0, 1000.0, 6000.0, 1200.0, 12000.0, 1700.0, 12500.0, 10500.0, 5000.0, 3150.0, 7000.0, 10500.0, 2500.0, 7500.0, 9000.0, 8500.0, 10000.0, 3500.0, 7500.0, 5000.0, 13000.0, 1800.0, 9000.0, 4000.0, 7500.0, 6500.0, 4500.0, 3000.0, 2500.0, 4000.0, 2500.0, 11500.0, 3500.0, 1000.0, 4000.0, 2100.0, 7500.0, 7000.0, 2100.0, 8000.0, 8000.0, 8500.0, 5000.0, 9500.0, 8000.0, 6000.0, 6000.0, 4000.0, 12000.0, 7000.0, 4000.0, 4000.0, 11500.0, 8500.0, 3000.0, 13000.0, 3300.0, 7500.0, 1750.0, 1500.0, 5000.0, 4500.0, 7500.0, 2800.0, 2400.0, 3000.0, 11500.0, 7000.0, 1200.0, 10500.0, 5000.0, 10000.0, 6500.0, 4000.0, 12500.0, 7000.0, 4000.0, 1800.0, 1200.0, 3000.0, 9000.0, 3800.0, 5000.0, 2000.0, 7000.0, 2500.0, 8500.0, 7500.0, 1200.0, 6000.0, 13000.0, 1200.0, 1500.0, 7500.0, 10500.0, 4000.0, 4000.0, 12000.0, 1200.0, 7500.0, 4500.0, 7000.0, 7500.0, 1000.0, 9000.0, 6500.0, 8000.0, 3000.0, 4000.0, 6000.0, 3000.0, 4000.0, 3000.0, 6000.0, 11500.0, 1000.0, 5000.0, 1200.0, 6600.0, 10000.0, 4200.0, 6000.0, 1500.0, 5500.0, 3000.0, 1500.0, 4500.0, 9500.0, 2700.0, 2800.0, 3000.0, 10000.0, 6000.0, 3000.0, 8000.0, 1500.0, 5000.0, 1200.0, 6000.0, 3000.0, 4500.0, 8500.0, 2000.0, 1200.0, 6500.0, 10000.0, 6000.0, 1500.0, 11000.0, 1500.0, 5500.0, 2750.0, 6500.0, 11500.0, 1500.0, 1500.0, 2100.0, 7500.0, 1500.0, 9000.0, 3000.0, 6000.0, 2500.0, 1500.0, 9000.0, 3000.0, 1500.0, 5000.0, 9000.0, 3650.0, 6000.0, 1200.0, 10500.0, 13000.0, 5000.0, 6000.0, 2000.0, 4000.0, 6500.0, 4000.0, 7000.0, 9500.0, 3000.0, 2000.0, 5500.0, 1200.0, 12000.0, 5000.0, 10500.0, 8500.0, 3000.0, 5000.0, 2500.0, 5000.0, 6500.0, 3000.0, 4500.0, 10000.0, 3500.0, 9500.0, 7500.0, 6000.0, 4000.0, 5500.0, 1500.0, 2600.0, 10000.0, 8500.0, 4000.0, 1500.0, 2500.0, 6000.0, 1200.0, 2600.0, 5000.0, 1700.0, 4000.0, 6000.0, 3000.0, 4000.0, 7500.0, 3300.0, 8500.0, 4200.0, 3000.0, 8000.0, 9500.0, 10500.0, 5000.0, 1800.0, 4000.0, 4600.0, 1800.0, 3000.0, 7000.0, 2400.0, 3000.0, 3000.0, 7000.0, 1700.0, 2500.0, 2000.0, 7500.0, 3350.0, 3500.0, 5500.0, 8500.0, 1500.0, 3000.0, 4000.0, 2000.0, 4500.0, 1500.0, 4000.0, 1000.0, 2500.0, 4000.0, 5500.0, 13000.0, 10500.0, 3000.0, 5000.0, 1500.0, 6000.0, 2000.0, 1500.0, 1200.0, 8000.0, 11500.0, 13500.0, 1000.0, 5000.0, 4000.0, 13500.0, 4000.0, 1200.0, 1500.0, 3500.0, 12500.0, 7000.0, 2600.0, 1200.0, 9000.0, 12500.0, 1500.0, 12000.0, 3000.0, 5000.0, 3000.0, 6000.0, 7000.0, 1200.0, 2000.0, 7500.0, 7300.0, 8000.0, 2100.0, 11500.0, 1800.0, 1600.0, 3000.0, 4300.0, 6500.0, 9500.0, 11500.0, 1200.0, 8000.0, 12500.0, 1000.0, 2000.0, 7500.0, 6500.0, 13000.0, 3000.0, 6000.0, 2000.0, 1200.0, 9000.0, 9500.0, 6500.0, 1500.0, 4600.0, 1200.0, 4500.0, 1200.0, 11000.0, 7000.0, 4500.0, 2500.0, 3200.0, 2000.0, 11000.0, 3300.0, 4500.0, 5000.0, 1200.0, 6500.0, 1200.0, 3000.0, 900.0, 3000.0, 10000.0, 1800.0, 2500.0, 6500.0, 5250.0, 4500.0, 9000.0, 3500.0, 3000.0, 4000.0, 2000.0, 4500.0, 3000.0, 6500.0, 1500.0, 6000.0, 1700.0, 6000.0, 1200.0, 6000.0, 2500.0, 12000.0, 6000.0, 1500.0, 1600.0, 10000.0, 1800.0, 7500.0, 3000.0, 1500.0, 3000.0, 2900.0, 2500.0, 3000.0, 8500.0, 8500.0, 1000.0, 4000.0, 1200.0, 5500.0, 1800.0, 7000.0, 4000.0, 1500.0, 1500.0, 13000.0, 1600.0, 6000.0, 4000.0, 1200.0, 3500.0, 3500.0, 6500.0, 6500.0, 6500.0, 1950.0, 10500.0, 1200.0, 3500.0, 4500.0, 2500.0, 3000.0, 1500.0, 10000.0, 5000.0, 4500.0, 4150.0, 1200.0, 3600.0, 2500.0, 8000.0, 5000.0, 9500.0, 4200.0, 11000.0, 2100.0, 6500.0, 8500.0, 2100.0, 3000.0, 3000.0, 6000.0, 1700.0, 9000.0, 1500.0, 4500.0, 3000.0, 5500.0, 1200.0, 2100.0, 1500.0, 8500.0, 6000.0, 10000.0, 1200.0, 7500.0, 9500.0, 5000.0, 1200.0, 7000.0, 3500.0, 5000.0, 6000.0, 10200.0, 10500.0, 1500.0, 5000.0, 6000.0, 4500.0, 1800.0, 1200.0, 6000.0, 7000.0, 3000.0, 4000.0, 3000.0, 1200.0, 1600.0, 10000.0, 1200.0, 4500.0, 1800.0, 7000.0, 1000.0, 4500.0, 2000.0, 3000.0, 7500.0, 750.0, 1000.0, 1500.0, 1200.0, 8500.0, 6500.0, 1200.0, 6000.0, 1200.0, 4500.0, 6500.0, 1500.0, 3000.0, 5000.0, 6000.0, 7500.0, 2000.0, 5000.0, 4500.0, 5000.0, 5500.0, 4000.0, 8500.0, 4000.0, 1500.0, 2000.0, 7500.0, 3000.0, 4000.0, 3500.0, 1800.0, 7000.0, 3000.0, 7000.0, 6000.0, 3500.0, 3500.0, 3500.0, 7500.0, 9000.0, 11000.0, 7000.0, 1000.0, 1000.0, 6000.0, 6000.0, 5000.0, 5000.0, 13000.0, 7500.0, 5000.0, 8500.0, 2900.0, 7500.0, 1950.0, 5000.0, 4000.0, 1200.0, 10000.0, 1500.0, 9000.0, 5000.0, 1200.0, 5500.0, 6500.0, 5500.0, 1500.0, 7000.0, 7500.0, 1500.0, 5000.0, 3000.0, 4500.0, 6000.0, 2500.0, 2100.0, 9500.0, 1700.0, 7600.0, 7500.0, 4500.0, 2500.0, 6500.0, 2100.0, 10000.0, 1500.0, 6000.0, 2500.0, 3000.0, 3000.0, 3000.0, 3500.0, 7500.0, 4000.0, 6000.0, 5500.0, 1200.0, 1200.0, 1000.0, 1000.0, 9000.0, 2500.0, 7000.0, 3000.0, 10000.0, 2500.0, 3000.0, 1000.0, 4000.0, 5000.0, 6000.0, 9000.0, 2500.0, 3000.0, 1500.0, 4500.0, 1200.0, 4000.0, 3000.0, 7000.0, 6000.0, 3000.0, 13000.0, 3500.0, 3500.0, 7500.0, 9500.0, 10000.0, 2500.0, 7000.0, 4000.0, 10000.0, 5000.0, 1500.0, 6500.0, 7000.0, 1200.0, 1500.0, 12000.0, 9000.0, 4500.0, 6000.0, 9500.0, 10500.0, 4500.0, 12000.0, 2720.0, 6000.0, 10000.0, 5000.0, 6000.0, 4000.0, 9000.0, 10500.0, 8500.0, 11500.0, 1200.0, 1200.0, 2200.0, 5500.0, 1500.0, 2000.0, 6000.0, 1500.0, 1800.0, 1700.0, 7000.0, 2500.0, 6000.0, 2500.0, 4500.0, 1500.0, 4000.0, 3500.0, 7000.0, 9000.0, 4500.0, 1200.0, 2500.0, 9000.0, 4000.0, 2500.0, 5000.0, 7000.0, 3000.0, 1200.0, 3000.0, 13500.0, 3000.0, 2500.0, 7350.0, 7000.0, 5000.0, 5000.0, 4500.0, 2500.0, 1800.0, 7500.0, 4000.0, 2500.0, 2500.0, 2100.0, 4000.0, 1000.0, 8500.0, 2000.0, 300.0, 10500.0, 5000.0, 11000.0, 3500.0, 6500.0, 6000.0, 4000.0, 7500.0, 3750.0, 4500.0, 6000.0, 2500.0, 1800.0, 3500.0, 11000.0, 1500.0, 6000.0, 7500.0, 1000.0, 6000.0, 11500.0, 1200.0, 8500.0, 13000.0, 1200.0, 9000.0, 3500.0, 5500.0, 1700.0, 13000.0, 9000.0, 1500.0, 7000.0, 6000.0, 2500.0, 5000.0, 1200.0, 9500.0, 6000.0, 3000.0, 4000.0, 4500.0, 3000.0, 8000.0, 2500.0, 11000.0, 4500.0, 1000.0, 3000.0, 6000.0, 1500.0, 12000.0, 7500.0, 7500.0, 6000.0, 11000.0, 1700.0, 7500.0, 3500.0, 12500.0, 9500.0, 1200.0, 7000.0, 3000.0, 1200.0, 4500.0, 11500.0, 10000.0, 12000.0, 7000.0, 4000.0, 4000.0, 1500.0, 13500.0, 1000.0, 9000.0, 4500.0, 12000.0, 8500.0, 6000.0, 4000.0, 8500.0, 6500.0, 6000.0, 2500.0, 7500.0, 8500.0, 7000.0, 6500.0, 2300.0, 4000.0, 3000.0, 3000.0, 9000.0, 3000.0, 3000.0, 2500.0, 1500.0, 3000.0, 8000.0, 4000.0, 6500.0, 3000.0, 3000.0, 3000.0, 12000.0, 2600.0, 2500.0, 1000.0, 5000.0, 2000.0, 8000.0, 8000.0, 1000.0, 10500.0, 4000.0, 12000.0, 6000.0, 9000.0, 1000.0, 7500.0, 8500.0, 3000.0, 6500.0, 1800.0, 7500.0, 9000.0, 3800.0, 4500.0, 4000.0, 12000.0, 2100.0, 6000.0, 7500.0, 1800.0, 5000.0, 1000.0, 7000.0, 6000.0, 10500.0, 4200.0, 9000.0, 5500.0, 11000.0, 1500.0, 3750.0, 10500.0, 9500.0, 7000.0, 8500.0, 2500.0, 6000.0, 2500.0, 10500.0, 1900.0, 9000.0, 2500.0, 1000.0, 1000.0, 6500.0, 8500.0, 8500.0, 11500.0, 7000.0, 8500.0, 8000.0, 7000.0, 2000.0, 500.0, 3000.0, 5500.0, 4500.0, 7500.0, 1000.0, 5500.0, 3000.0, 10500.0, 8000.0, 10400.0, 7500.0, 1600.0, 4000.0, 4500.0, 1200.0, 7000.0, 7000.0, 12500.0, 9000.0, 2500.0, 5000.0, 5000.0, 8000.0, 1800.0, 2000.0, 4500.0, 1200.0, 1500.0, 6000.0, 4500.0, 1200.0, 3000.0, 3000.0, 6000.0, 5700.0, 6500.0, 5200.0, 3300.0, 1500.0, 1500.0, 1950.0, 4000.0, 2250.0, 4000.0, 6500.0, 5200.0, 3000.0, 7000.0, 7000.0, 8000.0, 1000.0, 3000.0, 10500.0, 12000.0, 7500.0, 10000.0, 6000.0, 1700.0, 3000.0, 3000.0, 4000.0, 1500.0, 9500.0, 8000.0, 13500.0, 3000.0, 7500.0, 4500.0, 3500.0, 6000.0, 8000.0, 3000.0, 1200.0, 4000.0, 3000.0, 4500.0, 1000.0, 9000.0, 2000.0, 6500.0, 3000.0, 5000.0, 1200.0, 4000.0, 5000.0, 6500.0, 1000.0, 1000.0, 3500.0, 4500.0, 13000.0, 7000.0, 9000.0, 8000.0, 1000.0, 6000.0, 3000.0, 3000.0, 7300.0, 13000.0, 3000.0, 3000.0, 8500.0, 2000.0, 6000.0, 7500.0, 6000.0, 9000.0, 7500.0, 3000.0, 1200.0, 7000.0, 9000.0, 1200.0, 7500.0, 4000.0, 1700.0, 4500.0, 3000.0, 7500.0, 1500.0, 2500.0, 4500.0, 2000.0, 11500.0, 8500.0, 2000.0, 1000.0, 1200.0, 4000.0, 4350.0, 3000.0, 900.0, 6000.0, 3500.0, 1000.0, 6000.0, 7500.0, 3050.0, 4500.0, 5500.0, 2700.0, 6000.0, 2700.0, 12000.0, 4500.0, 12000.0, 13000.0, 3300.0, 12000.0, 4000.0, 6700.0, 2600.0, 4000.0, 2000.0, 9000.0, 9000.0, 1200.0, 4000.0, 3000.0, 6000.0, 2000.0, 6000.0, 7000.0, 8500.0, 8500.0, 2000.0, 7500.0, 2500.0, 1800.0, 6500.0, 1800.0, 6500.0, 12000.0, 4500.0, 6000.0, 11500.0, 1000.0, 4000.0, 11000.0, 8000.0, 12000.0, 5000.0, 5000.0, 6000.0, 3000.0, 10000.0, 10000.0, 1950.0, 7500.0, 6000.0, 3000.0, 4000.0, 2000.0, 9000.0, 5500.0, 3000.0, 1000.0, 1000.0, 9000.0, 7000.0, 7500.0, 1600.0, 9000.0, 1600.0, 6500.0, 7000.0, 6000.0, 4000.0, 1800.0, 2100.0, 4000.0, 1200.0, 8000.0, 9000.0, 6000.0, 7000.0, 4000.0, 10000.0, 1000.0, 1500.0, 1400.0, 11500.0, 4000.0, 7000.0, 6000.0, 6000.0, 4000.0, 8500.0, 4000.0, 4500.0, 8500.0, 6500.0, 11500.0, 3000.0, 3000.0, 3500.0, 6500.0, 6000.0, 500.0, 6500.0, 3000.0, 2000.0, 5750.0, 2500.0, 1500.0, 6500.0, 3500.0, 3000.0, 4000.0, 10000.0, 4000.0, 1500.0, 12500.0, 5000.0, 1500.0, 6000.0, 1200.0, 10500.0, 1200.0, 5500.0, 1600.0, 8000.0, 8300.0, 7500.0, 10000.0, 4000.0, 1500.0, 2500.0, 10500.0, 7950.0, 7000.0, 3000.0, 4500.0, 7000.0, 9000.0, 13500.0, 7500.0, 1800.0, 1800.0, 9000.0, 4500.0, 3000.0, 3500.0, 4500.0, 1000.0, 1500.0, 11500.0, 2600.0, 10500.0, 10500.0, 1200.0, 6000.0, 4000.0, 1500.0, 8500.0, 10000.0, 2500.0, 2200.0, 10000.0, 1500.0, 6500.0, 3000.0, 1800.0, 4500.0, 4500.0, 8500.0, 1200.0, 13500.0, 3000.0, 5000.0, 10500.0, 12000.0, 1500.0, 5000.0, 3100.0, 6500.0, 1500.0, 7500.0, 1700.0, 1500.0, 4000.0, 2000.0, 5000.0, 1500.0, 2500.0, 6000.0, 5500.0, 8000.0, 4000.0, 2500.0, 10000.0, 2000.0, 1700.0, 12500.0, 4000.0, 1200.0, 2500.0, 9000.0, 1800.0, 4000.0, 10000.0, 3500.0, 5000.0, 7000.0, 2500.0, 5500.0, 2500.0, 5000.0, 11500.0, 7500.0, 7500.0, 12000.0, 7500.0, 12000.0, 6000.0, 1000.0, 1200.0, 6000.0, 5000.0, 1500.0, 1000.0, 12500.0, 1500.0, 2600.0, 3000.0, 3500.0, 3000.0, 3000.0, 6000.0, 3000.0, 5000.0, 9000.0, 12000.0, 10500.0, 8500.0, 3000.0, 4000.0, 1200.0, 2500.0, 1200.0, 3000.0, 6000.0, 1500.0, 4000.0, 12000.0, 1200.0, 1000.0, 1500.0, 1200.0, 8500.0, 1200.0, 10000.0, 4000.0, 3000.0, 4050.0, 6500.0, 6000.0, 7500.0, 12500.0, 10000.0, 13000.0, 4000.0, 10500.0, 1500.0, 6500.0, 6000.0, 4000.0, 2100.0, 1500.0, 7500.0, 3000.0, 5500.0, 2000.0, 9500.0, 5500.0, 5500.0, 8500.0, 6500.0, 3000.0, 9500.0, 7500.0, 9500.0, 1200.0, 3000.0, 6000.0, 7000.0, 2500.0, 9500.0, 3500.0, 6000.0, 6300.0, 8000.0, 13000.0, 1200.0, 2400.0, 4000.0, 9500.0, 7000.0, 2000.0, 1500.0, 1500.0, 3000.0, 2500.0, 6000.0, 1950.0, 7000.0, 2500.0, 1500.0, 5000.0, 6500.0, 5000.0, 3000.0, 1500.0, 11000.0, 8500.0, 1800.0, 7500.0, 3000.0, 1800.0, 4000.0, 4000.0, 3666.666667, 7500.0, 7500.0, 200.0, 1000.0, 8500.0, 3000.0, 8500.0, 1700.0, 12500.0, 9000.0, 5000.0, 7000.0, 1200.0, 2100.0, 1500.0, 6000.0, 2500.0, 7500.0, 2500.0, 2000.0, 6500.0, 4000.0, 9500.0, 12500.0, 9100.0, 1500.0, 7500.0, 3000.0, 3000.0, 4500.0, 12000.0, 10000.0, 2500.0, 4000.0, 3500.0, 9000.0, 1000.0, 1600.0, 3000.0, 1800.0, 2100.0, 3700.0, 7500.0, 1500.0, 7100.0, 1600.0, 1500.0, 10000.0, 1950.0, 11000.0, 11000.0, 1800.0, 1200.0, 4200.0, 3000.0, 1000.0, 8500.0, 4750.0, 4500.0, 8000.0, 10000.0, 11000.0, 3900.0, 7000.0, 10000.0, 1500.0, 3500.0, 1000.0, 8000.0, 7500.0, 11000.0, 7500.0, 4000.0, 4000.0, 7500.0, 2000.0, 2300.0, 7000.0, 1500.0, 4500.0, 1800.0, 7500.0, 4500.0, 5000.0, 1200.0, 1000.0, 1200.0, 2500.0, 6000.0, 5000.0, 2000.0, 6000.0, 1500.0, 4500.0, 11500.0, 300.0, 9500.0, 8000.0, 11000.0, 3000.0, 1800.0, 8000.0, 1500.0, 1200.0, 3000.0, 10000.0, 5500.0, 1600.0, 9000.0, 1500.0, 7000.0, 6000.0, 5000.0, 6500.0, 2500.0, 4000.0, 1200.0, 9500.0, 3000.0, 2500.0, 10000.0, 4500.0, 10500.0, 12000.0, 6500.0, 6000.0, 7500.0, 2500.0, 1200.0, 10100.0, 4500.0, 12500.0, 6500.0, 12000.0, 1500.0, 6000.0, 1000.0, 12000.0, 6000.0, 9500.0, 1200.0, 1200.0, 2000.0, 6000.0, 11500.0, 13000.0, 6000.0, 3000.0, 3000.0, 8500.0, 1800.0, 3000.0, 3500.0, 2100.0, 1200.0, 6000.0, 5000.0, 7500.0, 6000.0, 1800.0, 4500.0, 3000.0, 6500.0, 1500.0, 3000.0, 1200.0, 2600.0, 10000.0, 3000.0, 1300.0, 9500.0, 7500.0, 2500.0, 7500.0, 7000.0, 2300.0, 1000.0, 1400.0, 4000.0, 8500.0, 7000.0, 3000.0, 11500.0, 5000.0, 9000.0, 13000.0, 2200.0, 8500.0, 4500.0, 2500.0, 3000.0, 6500.0, 7500.0, 1000.0, 5500.0, 5000.0, 13000.0, 4500.0, 3000.0, 4500.0, 1800.0, 3200.0, 6000.0, 3500.0, 11500.0, 11500.0, 1800.0, 5000.0, 2500.0, 4000.0, 1600.0, 9500.0, 1200.0, 5000.0, 12000.0, 4000.0, 8500.0, 4000.0, 5000.0, 2100.0, 3000.0, 6000.0, 2500.0, 3000.0, 10500.0, 4500.0, 3000.0, 10000.0, 6000.0, 3500.0, 2500.0, 3000.0, 3000.0, 7000.0, 4000.0, 13000.0, 1500.0, 10000.0, 5500.0, 4000.0, 6000.0, 2000.0, 10500.0, 10450.0, 8500.0, 10000.0, 4000.0, 7500.0, 3000.0, 11150.0, 1500.0, 10500.0, 11500.0, 7500.0, 6500.0, 9500.0, 5000.0, 9500.0, 2200.0, 8500.0, 4000.0, 2900.0, 6000.0, 1800.0, 2500.0, 2000.0, 1500.0, 6000.0, 600.0, 10000.0, 12000.0, 9000.0, 3000.0, 2000.0, 8000.0, 1500.0, 1000.0, 10500.0, 7500.0, 12000.0, 5500.0, 6000.0, 4000.0, 2500.0, 7500.0, 1800.0, 1800.0, 2000.0, 7000.0, 6500.0, 10000.0, 1500.0, 6000.0, 2400.0, 4000.0, 13000.0, 7500.0, 9000.0, 2100.0, 10500.0, 6000.0, 1000.0, 3500.0, 3500.0, 10000.0, 1500.0, 6000.0, 3500.0, 6000.0, 7000.0, 1500.0, 4500.0, 6000.0, 11500.0, 5500.0, 3000.0, 6000.0, 1500.0, 6000.0, 1500.0, 1800.0, 9000.0, 1200.0, 3000.0, 2100.0, 8000.0, 3000.0, 9000.0, 5500.0, 1500.0, 4000.0, 2000.0, 1200.0, 11150.0, 4000.0, 1800.0, 1500.0, 1200.0, 7000.0, 7000.0, 1500.0, 1500.0, 6000.0, 7500.0, 7000.0, 2000.0, 13000.0, 10000.0, 9500.0, 1700.0, 3000.0, 6000.0, 8500.0, 1000.0, 4000.0, 3500.0, 1000.0, 1200.0, 6000.0, 3000.0, 6000.0, 1500.0, 5000.0, 2500.0, 4200.0, 7500.0, 9500.0, 5000.0, 4000.0, 10500.0, 3500.0, 3500.0, 10000.0, 8500.0, 12000.0, 8500.0, 8000.0, 6000.0, 10000.0, 6500.0, 2200.0, 1000.0, 5000.0, 1200.0, 2500.0, 9500.0, 1200.0, 8500.0, 4000.0, 4200.0, 6500.0, 1200.0, 4000.0, 2500.0, 7500.0, 12000.0, 1800.0, 2400.0, 1800.0, 13500.0, 8500.0, 4000.0, 10500.0, 1000.0, 11500.0, 5500.0, 2000.0, 6500.0, 1500.0, 7000.0, 7500.0, 4000.0, 5000.0, 9500.0, 3500.0, 7500.0, 10000.0, 3000.0, 1000.0, 7000.0, 1950.0, 5500.0, 7000.0, 3000.0, 2300.0, 8500.0, 2400.0, 4000.0, 9500.0, 5500.0, 10500.0, 3000.0, 2500.0, 1000.0, 1500.0, 8500.0, 2000.0, 6000.0, 6000.0, 3000.0, 8500.0, 1200.0, 9000.0, 3000.0, 11500.0, 7500.0, 2000.0, 7500.0, 4000.0, 2500.0, 7000.0, 3000.0, 2750.0, 7000.0, 6000.0, 4700.0, 5000.0, 6000.0, 1200.0, 4000.0, 11500.0, 3000.0, 1000.0, 2000.0, 8000.0, 1800.0, 8000.0, 6000.0, 6200.0, 3500.0, 10000.0, 7000.0, 7000.0, 8500.0, 9000.0, 2900.0, 3000.0, 1200.0, 4000.0, 5000.0, 2500.0, 2000.0, 4500.0, 1500.0, 5500.0, 8500.0, 1500.0, 12500.0, 1800.0, 7000.0, 3000.0, 7000.0, 6000.0, 7500.0, 1000.0, 9500.0, 7500.0, 6000.0, 9000.0, 4000.0, 11500.0, 3000.0, 1500.0, 3500.0, 6500.0, 2500.0, 7000.0, 5000.0, 11500.0, 7000.0, 9000.0, 7500.0, 1500.0, 3000.0, 150.0, 5500.0, 4500.0, 2000.0, 1200.0, 8500.0, 1000.0, 11000.0, 1500.0, 1200.0, 1200.0, 8000.0, 1500.0, 1500.0, 2500.0, 5500.0, 1200.0, 4500.0, 1500.0, 3000.0, 7500.0, 8500.0, 1200.0, 1600.0, 2500.0, 9500.0, 3500.0, 10000.0, 7500.0, 1200.0, 6500.0, 3500.0, 7000.0, 9000.0, 7000.0, 5000.0, 7000.0, 3000.0, 5500.0, 7000.0, 1600.0, 1950.0, 1200.0, 1800.0, 10000.0, 3500.0, 1950.0, 2500.0, 9500.0, 1200.0, 2000.0, 7000.0, 2500.0, 5000.0, 2500.0, 3400.0, 2500.0, 3000.0, 11500.0, 10000.0, 8500.0, 1350.0, 5000.0, 3500.0, 7500.0, 1800.0, 1200.0, 2000.0, 1400.0, 3200.0, 9000.0, 8000.0, 7500.0, 7000.0, 1200.0, 2500.0, 5100.0, 1200.0, 6000.0, 1000.0, 6000.0, 8500.0, 1000.0, 6000.0, 7500.0, 2500.0, 3000.0, 1400.0, 2500.0, 4500.0, 2500.0, 1950.0, 2500.0, 6000.0, 10500.0, 12000.0, 5000.0, 3000.0, 1500.0, 5000.0, 4350.0, 2500.0, 6000.0, 3200.0, 1000.0, 500.0, 8500.0, 7500.0, 1500.0, 13500.0, 1800.0, 3000.0, 7500.0, 8000.0, 7200.0, 1200.0, 11000.0, 7000.0, 2500.0, 3000.0, 1200.0, 4000.0, 4000.0, 1000.0, 7500.0, 3000.0, 2000.0, 2000.0, 2500.0, 1500.0, 11000.0, 1800.0, 9000.0, 10000.0, 8000.0, 2000.0, 3000.0, 9000.0, 1500.0, 4000.0, 9000.0, 3500.0, 9000.0, 9000.0, 7500.0, 1500.0, 12000.0, 7500.0, 1000.0, 2300.0, 6500.0, 10500.0, 1950.0, 6500.0, 1200.0, 1200.0, 8500.0, 7000.0, 8500.0, 3000.0, 6000.0, 1200.0, 7500.0, 1000.0, 3000.0, 3500.0, 2500.0, 3000.0, 7227.272727, 13550.0, 8000.0, 9200.0, 9000.0, 6100.0, 13500.0, 3000.0, 7000.0, 9000.0, 2000.0, 7000.0, 7000.0, 10000.0, 2500.0, 4500.0, 5000.0, 6500.0, 6500.0, 6000.0, 1900.0, 4000.0, 1800.0, 6000.0, 6000.0, 1600.0, 3000.0, 13500.0, 9500.0, 4000.0, 6000.0, 1500.0, 7000.0, 1500.0, 5500.0, 7500.0, 1200.0, 6500.0, 2800.0, 3000.0, 8000.0, 3000.0, 2500.0, 5000.0, 6000.0, 6500.0, 6000.0, 2500.0, 7500.0, 8000.0, 2700.0, 1200.0, 7000.0, 1500.0, 6500.0, 3500.0, 4500.0, 10000.0, 6500.0, 6000.0, 7100.0, 3000.0, 2000.0, 1800.0, 2000.0, 1500.0, 1500.0, 1200.0, 10000.0, 1950.0, 5500.0, 7500.0, 10000.0, 3000.0, 1800.0, 7500.0, 8000.0, 8000.0, 4000.0, 1000.0, 2500.0, 6000.0, 10000.0, 5000.0, 1500.0, 7500.0, 12500.0, 10500.0, 4500.0, 10000.0, 8500.0, 9500.0, 2000.0, 1500.0, 2500.0, 4000.0, 12000.0, 1000.0, 4000.0, 1500.0, 1700.0, 3000.0, 2500.0, 1600.0, 2000.0, 1500.0, 5000.0, 5000.0, 7000.0, 6500.0, 8000.0, 3000.0, 11500.0, 1200.0, 1800.0, 4000.0, 2000.0, 2750.0, 1500.0, 1500.0, 5000.0, 6500.0, 5500.0, 3000.0, 1500.0, 6500.0, 1200.0, 7000.0, 9000.0, 3600.0, 7000.0, 1800.0, 4500.0, 1000.0, 6500.0, 5500.0, 4500.0, 4000.0, 3000.0, 8500.0, 9500.0, 1700.0, 2000.0, 6000.0, 10000.0, 10500.0, 3000.0, 3500.0, 1000.0, 6000.0, 2000.0, 6500.0, 12000.0, 4000.0, 2000.0, 7000.0, 9000.0, 12000.0, 1200.0, 3000.0, 4000.0, 6500.0, 2000.0, 2000.0, 2000.0, 7500.0, 1350.0, 9000.0, 1200.0, 8500.0, 7500.0, 3500.0, 1500.0, 7000.0, 3500.0, 2000.0, 10000.0, 3000.0, 2000.0, 5000.0, 3000.0, 4300.0, 1000.0, 7500.0, 1500.0, 2500.0, 6000.0, 4300.0, 1200.0, 7500.0, 10000.0, 2000.0, 5000.0, 2050.0, 9000.0, 6500.0, 4600.0, 7000.0, 7500.0, 1000.0, 1700.0, 1200.0, 1200.0, 5500.0, 7500.0, 1000.0, 2500.0, 7000.0, 4000.0, 5000.0, 2500.0, 4500.0, 7000.0, 6400.0, 8000.0, 2500.0, 3000.0, 1200.0, 6000.0, 4250.0, 10000.0, 6000.0, 1500.0, 10000.0, 3000.0, 7000.0, 1800.0, 1200.0, 1500.0, 6000.0, 8500.0, 1700.0, 1000.0, 8500.0, 2500.0, 1200.0, 3000.0, 6000.0, 9000.0, 7500.0, 1000.0, 9000.0, 5000.0, 1500.0, 5000.0, 5000.0, 1800.0, 1200.0, 3000.0, 8500.0, 1200.0, 1200.0, 6000.0, 3000.0, 3000.0, 1200.0, 8500.0, 6000.0, 6000.0, 1500.0, 1500.0, 3000.0, 1800.0, 5000.0, 1800.0, 1500.0, 5500.0, 1200.0, 1800.0, 10000.0, 5500.0, 7500.0, 9500.0, 4500.0, 4000.0, 3000.0, 11500.0, 10000.0, 1950.0, 6500.0, 2000.0, 4000.0, 8600.0, 1000.0, 4000.0, 8000.0, 7500.0, 4500.0, 1200.0, 12000.0, 4000.0, 12000.0, 6000.0, 1200.0, 3800.0, 2500.0, 7000.0, 8500.0, 2500.0, 5000.0, 13000.0, 1500.0, 6000.0, 6000.0, 3000.0, 7500.0, 11500.0, 1500.0, 5000.0, 4500.0, 6000.0, 2500.0, 6000.0, 3000.0, 4000.0, 500.0, 3000.0, 4000.0, 4000.0, 6000.0, 2300.0, 6000.0, 3600.0, 2100.0, 7000.0, 9000.0, 11000.0, 1800.0, 1000.0, 10500.0, 6000.0, 4000.0, 3800.0, 3500.0, 2000.0, 7500.0, 1500.0, 7500.0, 1500.0, 1000.0, 2800.0, 3500.0, 3511.111111, 1500.0, 7000.0, 1200.0, 5000.0, 3000.0, 8000.0, 1000.0, 7000.0, 5500.0, 1500.0, 1200.0, 2300.0, 9000.0, 1500.0, 1200.0, 8500.0, 7000.0, 1400.0, 5600.0, 9000.0, 6500.0, 2000.0, 7000.0, 1600.0, 1750.0, 7000.0, 3000.0, 7500.0, 1500.0, 2000.0, 1500.0, 3500.0, 2500.0, 1500.0, 1000.0, 7500.0, 10000.0, 8000.0, 6000.0, 7000.0, 1950.0, 4000.0, 8000.0, 8000.0, 1500.0, 3000.0, 1600.0, 6000.0, 3000.0, 6000.0, 2700.0, 1500.0, 4000.0, 8000.0, 2500.0, 1800.0, 1500.0, 1500.0, 1500.0, 7500.0, 3000.0, 11500.0, 3000.0, 5000.0, 1500.0, 4000.0, 5000.0, 3000.0, 4500.0, 7350.0, 1500.0, 2000.0, 9000.0, 1700.0, 4000.0, 5000.0, 9000.0, 3000.0, 2500.0, 2700.0, 3000.0, 9000.0, 4500.0, 4000.0, 1950.0, 7000.0, 1700.0, 6000.0, 10500.0, 2500.0, 1500.0, 3000.0, 6000.0, 8000.0, 2500.0, 2900.0, 4000.0, 6000.0, 4000.0, 4500.0, 1500.0, 10000.0, 8500.0, 6000.0, 2500.0, 8500.0, 5000.0, 3000.0, 5100.0, 5000.0, 1200.0, 1500.0, 1000.0, 6727.272727, 6500.0, 7500.0, 12000.0, 5000.0, 3700.0, 6500.0, 1200.0, 8000.0, 1800.0, 2000.0, 1500.0, 3000.0, 7000.0, 6000.0, 8500.0, 6000.0, 9000.0, 3150.0, 5000.0, 6500.0, 4500.0, 6000.0, 3000.0, 2500.0, 1500.0, 7000.0, 8500.0, 1200.0, 3000.0, 1500.0, 1600.0, 4000.0, 9000.0, 1500.0, 7000.0, 3500.0, 4000.0, 2500.0, 8500.0, 7500.0, 1600.0, 8500.0, 13600.0, 1950.0, 6000.0, 1500.0, 1000.0, 1800.0, 2600.0, 4000.0, 7000.0, 6500.0, 3100.0, 3000.0, 9500.0, 13000.0, 7000.0, 7500.0, 11000.0, 3000.0, 6500.0, 5000.0, 1500.0, 3500.0, 2500.0, 9000.0, 4000.0, 2500.0, 2500.0, 2500.0, 8000.0, 2000.0, 9000.0, 1200.0, 1200.0, 2500.0, 3500.0, 3000.0, 2500.0, 8500.0, 5300.0, 5200.0, 1600.0, 11500.0, 1800.0, 1500.0, 12000.0, 4000.0, 7500.0, 7500.0, 7500.0, 1700.0, 6500.0, 1500.0, 6500.0, 2500.0, 9500.0, 4000.0, 6000.0, 7500.0, 13500.0, 5700.0, 2500.0, 5000.0, 1500.0, 2500.0, 1500.0, 200.0, 5000.0, 1500.0, 3000.0, 5000.0, 2500.0, 6000.0, 4000.0, 7500.0, 8800.0, 5000.0, 5500.0, 10000.0, 6000.0, 7000.0, 6500.0, 1000.0, 10000.0, 8500.0, 2000.0, 11100.0, 1500.0, 10500.0, 5000.0, 6000.0, 1700.0, 12200.0, 9000.0, 11500.0, 1000.0, 10000.0, 6700.0, 1200.0, 5000.0, 2000.0, 10000.0, 2500.0, 12000.0, 1950.0, 1200.0, 10500.0, 4500.0, 3000.0, 1800.0, 10000.0, 6000.0, 6000.0, 9000.0, 5100.0, 2500.0, 1500.0, 6000.0, 5000.0, 3000.0, 13000.0, 7500.0, 1800.0, 2500.0, 3000.0, 1500.0, 1200.0, 11000.0, 1700.0, 1500.0, 1700.0, 1200.0, 1000.0, 3000.0, 8000.0, 7000.0, 1200.0, 8100.0, 2500.0, 5000.0, 8500.0, 1200.0, 8050.0, 2400.0, 7500.0, 6500.0, 9000.0, 1800.0, 1200.0, 3600.0, 8500.0, 1000.0, 4600.0, 1400.0, 4100.0, 9500.0, 3000.0, 7000.0, 4500.0, 4000.0, 2000.0, 2500.0, 2500.0, 6500.0, 1500.0, 10000.0, 8500.0, 6500.0, 1200.0, 4000.0, 12000.0, 13000.0, 1200.0, 2400.0, 1500.0, 3000.0, 1500.0, 5000.0, 10000.0, 6500.0, 3000.0, 1500.0, 7500.0, 6000.0, 2250.0, 7500.0, 1500.0, 7500.0, 3000.0, 1200.0, 1000.0, 6500.0, 8500.0, 1500.0, 2000.0, 2000.0, 1800.0, 8500.0, 5550.0, 6700.0, 1200.0, 9000.0, 1950.0, 1500.0, 900.0, 4000.0, 8500.0, 2500.0, 1500.0, 4000.0, 5000.0, 1700.0, 8000.0, 10000.0, 1200.0, 1500.0, 9000.0, 8500.0, 1500.0, 4500.0, 3000.0, 6700.0, 1000.0, 9000.0, 7500.0, 5500.0, 11500.0, 7000.0, 7500.0, 7500.0, 2500.0, 5000.0, 3000.0, 7500.0, 1950.0, 500.0, 2500.0, 1500.0, 5000.0, 2100.0, 3000.0, 12000.0, 3000.0, 9000.0, 1500.0, 1800.0, 2500.0, 4500.0, 7500.0, 1200.0, 1700.0, 3000.0, 5000.0, 4000.0, 3000.0, 1800.0, 6300.0, 2500.0, 6000.0, 1800.0, 2400.0, 300.0, 4000.0, 3000.0, 7000.0, 1700.0, 6000.0, 1700.0, 2000.0, 10000.0, 1700.0, 2500.0, 5000.0, 600.0, 2000.0, 2000.0, 7500.0, 1500.0, 4000.0, 4000.0, 1000.0, 10000.0, 1850.0, 5700.0, 6000.0, 5000.0, 3000.0, 150.0, 10000.0, 5000.0, 11000.0, 2000.0, 4500.0, 7000.0, 3000.0, 3000.0, 5000.0, 7000.0, 3000.0, 9000.0, 1500.0, 2500.0, 10000.0, 4600.0, 6600.0, 8500.0, 1500.0, 1500.0, 5500.0, 7000.0, 1000.0, 1200.0, 11000.0, 8500.0, 5000.0, 7500.0, 8000.0, 4000.0, 1800.0, 7500.0, 7000.0, 4450.0, 6500.0, 1500.0, 1950.0, 7600.0, 2000.0, 1200.0, 4000.0, 7500.0, 1200.0, 4000.0, 1500.0, 7500.0, 3000.0, 1000.0, 1000.0, 10500.0, 1500.0, 4500.0, 6000.0, 2500.0, 5300.0, 3500.0, 9000.0, 9000.0, 3500.0, 6000.0, 4000.0, 1200.0, 4200.0, 3600.0, 4100.0, 6000.0, 5500.0, 7500.0, 10500.0, 1800.0, 1700.0, 3500.0, 10500.0, 1000.0, 9500.0, 5650.0, 3000.0, 7000.0, 2400.0, 5000.0, 9500.0, 5000.0, 7500.0, 1700.0, 2700.0, 1200.0, 7000.0, 1200.0, 4000.0, 1200.0, 1000.0, 1800.0, 8200.0, 4000.0, 1300.0, 7000.0, 8500.0, 10500.0, 7000.0, 2500.0, 5000.0, 3400.0, 5000.0, 3000.0, 1800.0, 1800.0, 2500.0, 4000.0, 300.0, 6500.0, 10000.0, 7000.0, 1500.0, 4000.0, 2500.0, 1800.0, 3000.0, 5500.0, 4500.0, 7500.0, 1500.0, 6000.0, 1800.0, 8800.0, 1800.0, 500.0, 2400.0, 5600.0, 5000.0, 10000.0, 1800.0, 1500.0, 2300.0, 6000.0, 12000.0, 2000.0, 5400.0, 12000.0, 4800.0, 8000.0, 8500.0, 6000.0, 3000.0, 3100.0, 7500.0, 1400.0, 1200.0, 7500.0, 9500.0, 10000.0, 1200.0, 4000.0, 1000.0, 1800.0, 7000.0, 1200.0, 4000.0, 3000.0, 9500.0, 4500.0, 1000.0, 7000.0, 6000.0, 13000.0, 7000.0, 2500.0, 11500.0, 4500.0, 8000.0, 6000.0, 1000.0, 6000.0, 1500.0, 4000.0, 7500.0, 2100.0, 1600.0, 1500.0, 9500.0, 4500.0, 7000.0, 8000.0, 5300.0, 1800.0, 5000.0, 8000.0, 6500.0, 1200.0, 7600.0, 3000.0, 7000.0, 8500.0, 1000.0, 7500.0, 1600.0, 3100.0, 7500.0, 1200.0, 8500.0, 10000.0, 2000.0, 1700.0, 4000.0, 2500.0, 4000.0, 1500.0, 3000.0, 6500.0, 1500.0, 10500.0, 1500.0, 8500.0, 8000.0, 13500.0, 9000.0, 3500.0, 6000.0, 7000.0, 1000.0, 12000.0, 9000.0, 9000.0, 1200.0, 5200.0, 2000.0, 7500.0, 5000.0, 11500.0, 8000.0, 3500.0, 9000.0, 8000.0, 12000.0, 1000.0, 3000.0, 3500.0, 6000.0, 1000.0, 1400.0, 7000.0, 5500.0, 6000.0, 3500.0, 3500.0, 1800.0, 6000.0, 11500.0, 2000.0, 4800.0, 6500.0, 5000.0, 1200.0, 3000.0, 2500.0, 10000.0, 3500.0, 3000.0, 8500.0, 1200.0, 4000.0, 2000.0, 6000.0, 9500.0, 9500.0, 4300.0, 6500.0, 2000.0, 1500.0, 6700.0, 2900.0, 8000.0, 1200.0, 6000.0, 6000.0, 1000.0, 2500.0, 7000.0, 6000.0, 1500.0, 5000.0, 4500.0, 4000.0, 9500.0, 1200.0, 10000.0, 9000.0, 4500.0, 6000.0, 1800.0, 12000.0, 13000.0, 200.0, 4000.0, 1500.0, 9000.0, 13000.0, 6000.0, 10000.0, 1500.0, 1500.0, 5000.0, 4000.0, 8000.0, 1200.0, 7000.0, 2500.0, 4000.0, 5000.0, 7500.0, 7600.0, 9950.0, 1500.0, 9500.0, 600.0, 6000.0, 1600.0, 10500.0, 4500.0, 5500.0, 4500.0, 6000.0, 4500.0, 7500.0, 9500.0, 6000.0, 1900.0, 5500.0, 1800.0, 1700.0, 2000.0, 1500.0, 3000.0, 2500.0, 1000.0, 3000.0, 3000.0, 3000.0, 7000.0, 3500.0, 8000.0, 7500.0, 7500.0, 5000.0, 3000.0, 7000.0, 4500.0, 3500.0, 1700.0, 9000.0, 1800.0, 1700.0, 1150.0, 10500.0, 7000.0, 3500.0, 5000.0, 2500.0, 11000.0, 1500.0, 9000.0, 5000.0, 1700.0, 1200.0, 6150.0, 4000.0, 4000.0, 1000.0, 2000.0, 4000.0, 2500.0, 5500.0, 1500.0, 6000.0, 3000.0, 5000.0, 7500.0, 4500.0, 2500.0, 7500.0, 6800.0, 1700.0, 9500.0, 5200.0, 6000.0, 1500.0, 12000.0, 2000.0, 7500.0, 6000.0, 4000.0, 8000.0, 7500.0, 4500.0, 4000.0, 10000.0, 3000.0, 12500.0, 1000.0, 3000.0, 10000.0, 1500.0, 7000.0, 6000.0, 4300.0, 7500.0, 2500.0, 12000.0, 1500.0, 5000.0, 1200.0, 1200.0, 6000.0, 5000.0, 2000.0, 1200.0, 6500.0, 5000.0, 4000.0, 4000.0, 3500.0, 3500.0, 7000.0, 6000.0, 1200.0, 1700.0, 10500.0, 1200.0, 1500.0, 5000.0, 1500.0, 2500.0, 10000.0, 2500.0, 4700.0, 1500.0, 2000.0, 10000.0, 5500.0, 3000.0, 4500.0, 12500.0, 3000.0, 4500.0, 3000.0, 3000.0, 12500.0, 3000.0, 5500.0, 2500.0, 3500.0, 3200.0, 9500.0, 12000.0, 6000.0, 13000.0, 3000.0, 3000.0, 1800.0, 1500.0, 8500.0, 5000.0, 7500.0, 6000.0, 4500.0, 1200.0, 2500.0, 2000.0, 1200.0, 4000.0, 7000.0, 10000.0, 6000.0, 7000.0, 11000.0, 6500.0, 1400.0, 11500.0, 5500.0, 3000.0, 2300.0, 1500.0, 3000.0, 9000.0, 6300.0, 13500.0, 1400.0, 7000.0, 2500.0, 5500.0, 1200.0, 5000.0, 6500.0, 6500.0, 1600.0, 1500.0, 4000.0, 2500.0, 1500.0, 1200.0, 12000.0, 4000.0, 1200.0, 3000.0, 4000.0, 6500.0, 6000.0, 6000.0, 1700.0, 3000.0, 1500.0, 4000.0, 10500.0, 7500.0, 1000.0, 6000.0, 6000.0, 5000.0, 8500.0, 8500.0, 5000.0, 4650.0, 11500.0, 9000.0, 10000.0, 7000.0, 4500.0, 1200.0, 6000.0, 5000.0, 13500.0, 8000.0, 6000.0, 5000.0, 7500.0, 1500.0, 2500.0, 6000.0, 3000.0, 1500.0, 6000.0, 1500.0, 12500.0, 9000.0, 1000.0, 6000.0, 11000.0, 1500.0, 3000.0, 7000.0, 3500.0, 3000.0, 2000.0, 3000.0, 4500.0, 2600.0, 9000.0, 3000.0, 7100.0, 3000.0, 500.0, 4500.0, 4000.0, 7800.0, 1200.0, 6000.0, 5000.0, 3000.0, 3000.0, 9000.0, 2900.0, 1700.0, 3000.0, 1800.0, 2500.0, 4500.0, 3000.0, 1500.0, 3000.0, 2500.0, 11500.0, 1000.0, 1000.0, 2500.0, 2500.0, 7500.0, 7500.0, 6500.0, 3000.0, 3000.0, 1500.0, 1200.0, 5500.0, 3000.0, 1200.0, 4500.0, 3000.0, 6000.0, 1200.0, 2500.0, 2000.0, 8000.0, 8500.0, 3000.0, 3500.0, 6000.0, 1700.0, 5000.0, 1200.0, 3000.0, 5500.0, 3000.0, 13000.0, 2150.0, 3000.0, 6000.0, 1200.0, 1000.0, 6000.0, 1800.0, 3500.0, 9500.0, 1500.0, 6500.0, 1200.0, 8500.0, 7500.0, 750.0, 5600.0, 5000.0, 1800.0, 5000.0, 6000.0, 7000.0, 12000.0, 5500.0, 1500.0, 6000.0, 2500.0, 7500.0, 5000.0, 6000.0, 7000.0, 3000.0, 6900.0, 2000.0, 3500.0, 4000.0, 4000.0, 2000.0, 1500.0, 5000.0, 11000.0, 3000.0, 13000.0, 7000.0, 10500.0, 1500.0, 4500.0, 1500.0, 2000.0, 1500.0, 6500.0, 6500.0, 2500.0, 3000.0, 1500.0, 7000.0, 3000.0, 5000.0, 1500.0, 2500.0, 6000.0, 3000.0, 1200.0, 10000.0, 1500.0, 9000.0, 1200.0, 2500.0, 8000.0, 600.0, 1200.0, 2500.0, 4000.0, 3000.0, 13000.0, 2500.0, 3200.0, 6000.0, 1600.0, 5000.0, 10000.0, 4000.0, 2000.0, 1000.0, 1500.0, 10000.0, 6600.0, 3000.0, 6500.0, 1800.0, 12500.0, 5000.0, 8000.0, 6500.0, 1200.0, 2000.0, 1500.0, 2000.0, 5000.0, 1500.0, 4000.0, 1200.0, 4500.0, 3000.0, 4000.0, 4750.0, 8500.0, 7000.0, 4500.0, 7500.0, 1500.0, 6000.0, 6500.0, 3000.0, 3000.0, 1200.0, 1800.0, 4000.0, 6000.0, 1000.0, 3500.0, 1200.0, 5500.0, 1800.0, 6000.0, 2500.0, 1200.0, 4000.0, 3800.0, 1800.0, 2500.0, 1500.0, 4000.0, 1200.0, 6000.0, 2000.0, 6500.0, 1000.0, 2500.0, 6000.0, 13000.0, 4000.0, 12000.0, 1200.0, 3500.0, 1200.0, 2700.0, 400.0, 7700.0, 5000.0, 4500.0, 2500.0, 10500.0, 5000.0, 4000.0, 6000.0, 8500.0, 1900.0, 5000.0, 4500.0, 7000.0, 2400.0, 1500.0, 7500.0, 9500.0, 7000.0, 1200.0, 1200.0, 2700.0, 4000.0, 1800.0, 2000.0, 6000.0, 3000.0, 10000.0, 1800.0, 7500.0, 4000.0, 3500.0, 9000.0, 5000.0, 2500.0, 2600.0, 4000.0, 1200.0, 1000.0, 5500.0, 6500.0, 12000.0, 5000.0, 8000.0, 10500.0, 1200.0, 5000.0, 3700.0, 1500.0, 1400.0, 1500.0, 2500.0, 6000.0, 3400.0, 4000.0, 8500.0, 1200.0, 8000.0, 8500.0, 3500.0, 4000.0, 9500.0, 8500.0, 3000.0, 3000.0, 1500.0, 1200.0, 2900.0, 8500.0, 7500.0, 1200.0, 3200.0, 1200.0, 4000.0, 1200.0, 6000.0, 1200.0, 1200.0, 4500.0, 1000.0, 3000.0, 1200.0, 10000.0, 1500.0, 3000.0, 8000.0, 1200.0, 7200.0, 8000.0, 1200.0, 7000.0, 2000.0, 3000.0, 6000.0, 6000.0, 4500.0, 2500.0, 9500.0, 7500.0, 5700.0, 2500.0, 7000.0, 5500.0, 1500.0, 1500.0, 3500.0, 2500.0, 1200.0, 5500.0, 7500.0, 4000.0, 1200.0, 1500.0, 4000.0, 10000.0, 1600.0, 4000.0, 4500.0, 1900.0, 8000.0, 3000.0, 7000.0, 6000.0, 8500.0, 2000.0, 12000.0, 2900.0, 3000.0, 2500.0, 3000.0, 8500.0, 2500.0, 7000.0, 1500.0, 3000.0, 500.0, 3350.0, 4200.0, 1000.0, 8000.0, 8000.0, 1500.0, 3000.0, 2000.0, 5000.0, 1500.0, 5700.0, 1200.0, 1500.0, 6000.0, 1500.0, 3500.0, 13000.0, 3000.0, 7000.0, 1200.0, 10500.0, 3000.0, 7500.0, 6500.0, 3000.0, 1400.0, 10500.0, 2500.0, 1600.0, 6000.0, 4400.0, 2000.0, 7000.0, 10000.0, 7500.0, 6200.0, 1500.0, 8000.0, 11500.0, 8000.0, 6500.0, 7000.0, 3000.0, 4000.0, 1000.0, 6500.0, 6000.0, 2000.0, 2500.0, 8000.0, 6000.0, 1700.0, 4000.0, 3000.0, 1000.0, 2500.0, 4500.0, 6000.0, 3000.0, 500.0, 12000.0, 3000.0, 6000.0, 10000.0, 2000.0, 1050.0, 1850.0, 10000.0, 5500.0, 2000.0, 9000.0, 6500.0, 10000.0, 6000.0, 1200.0, 1200.0, 3500.0, 4000.0, 2800.0, 3000.0, 9000.0, 3000.0, 7000.0, 5000.0, 4500.0, 10000.0, 9000.0, 6200.0, 700.0, 1200.0, 8500.0, 1200.0, 1000.0, 9000.0, 7500.0, 4500.0, 3000.0, 7000.0, 4000.0, 3000.0, 5000.0, 2500.0, 1000.0, 1400.0, 1950.0, 7000.0, 8000.0, 6500.0, 6000.0, 1200.0, 7500.0, 4500.0, 7000.0, 10000.0, 6500.0, 3000.0, 1000.0, 1600.0, 8000.0, 6000.0, 8500.0, 2500.0, 5181.818182, 3000.0, 6500.0, 2500.0, 5000.0, 1000.0, 1200.0, 1600.0, 300.0, 1200.0, 7000.0, 6000.0, 3500.0, 7000.0, 7000.0, 5500.0, 1000.0, 1500.0, 2500.0, 1200.0, 8500.0, 5500.0, 4500.0, 3000.0, 2500.0, 2500.0, 6000.0, 2700.0, 1500.0, 1500.0, 7000.0, 1500.0, 10500.0, 5000.0, 5000.0, 6500.0, 12000.0, 11500.0, 4500.0, 4500.0, 1000.0, 9500.0, 500.0, 1200.0, 8500.0, 1500.0, 12000.0, 2000.0, 5000.0, 3000.0, 3000.0, 2500.0, 5000.0, 9000.0, 2500.0, 2200.0, 5000.0, 2500.0, 8000.0, 6500.0, 8500.0, 9000.0, 3000.0, 8500.0, 9500.0, 7500.0, 3500.0, 8500.0, 13500.0, 2000.0, 1200.0, 3000.0, 3000.0, 1200.0, 5000.0, 3200.0, 9500.0, 1700.0, 1200.0, 6000.0, 5500.0, 1000.0, 1500.0, 3000.0, 2000.0, 1200.0, 2500.0, 6000.0, 1200.0, 2400.0, 7000.0, 9000.0, 1200.0, 1000.0, 7000.0, 10500.0, 10500.0, 3000.0, 2000.0, 2500.0, 3000.0, 4000.0, 4500.0, 8000.0, 7500.0, 6000.0, 4000.0, 7500.0, 2500.0, 7000.0, 4500.0, 10500.0, 1500.0, 7200.0, 1200.0, 3000.0, 3000.0, 10000.0, 3700.0, 4000.0, 1200.0, 2500.0, 4000.0, 8000.0, 1200.0, 1800.0, 2500.0, 600.0, 13000.0, 3500.0, 2500.0, 2400.0, 7500.0, 1500.0, 5000.0, 7700.0, 2500.0, 5000.0, 3500.0, 1000.0, 2500.0, 6500.0, 10000.0, 1000.0, 2700.0, 4500.0, 2500.0, 7500.0, 6500.0, 3000.0, 1200.0, 1500.0, 2500.0, 4500.0, 1800.0, 2500.0, 1200.0, 1200.0, 1000.0, 1200.0, 2500.0, 3500.0, 2500.0, 3000.0, 1800.0, 1200.0, 2000.0, 1200.0, 6000.0, 1800.0, 1000.0, 1800.0, 3500.0, 1500.0, 1000.0, 4900.0, 1100.0, 1500.0, 9500.0, 1600.0, 5000.0, 4500.0, 1900.0, 3500.0, 4000.0, 6700.0, 1200.0, 9500.0, 6500.0, 2500.0, 11500.0, 3500.0, 6000.0, 11500.0, 12500.0, 6000.0, 1200.0, 7500.0, 3000.0, 4500.0, 1000.0, 2550.0, 4000.0, 5000.0, 1200.0, 2500.0, 2000.0, 1200.0, 2500.0, 11500.0, 11000.0, 8000.0, 7000.0, 4500.0, 4000.0, 4000.0, 3000.0, 9000.0, 6500.0, 3000.0, 6000.0, 1000.0, 7500.0, 6500.0, 3000.0, 1000.0, 12000.0, 13000.0, 7000.0, 3000.0, 2900.0, 4000.0, 7000.0, 11000.0, 3050.0, 3000.0, 6000.0, 1000.0, 3000.0, 7000.0, 1200.0, 1500.0, 4000.0, 10000.0, 1200.0, 3500.0, 9000.0, 4000.0, 1800.0, 2500.0, 5500.0, 1500.0, 1500.0, 1000.0, 1200.0, 4500.0, 6000.0, 700.0, 6000.0, 3000.0, 1800.0, 6000.0, 7000.0, 500.0, 3000.0, 2500.0, 4500.0, 1200.0, 12000.0, 13000.0, 1200.0, 4000.0, 3000.0, 2700.0, 3000.0, 3000.0, 10000.0, 1000.0, 1500.0, 6000.0, 8500.0, 1000.0, 2400.0, 1200.0, 4500.0, 3000.0, 1800.0, 6000.0, 1200.0, 5000.0, 1200.0, 5000.0, 4500.0, 1500.0, 3000.0, 5000.0, 1000.0, 6000.0, 11500.0, 11500.0, 6000.0, 1000.0, 12000.0, 6500.0, 2500.0, 1500.0, 1500.0, 2500.0, 5000.0, 1200.0, 4000.0, 3000.0, 4500.0, 6500.0, 3000.0, 5000.0, 2000.0, 7000.0, 2500.0, 1200.0, 4500.0, 3000.0, 1200.0, 8000.0, 2500.0, 2000.0, 3000.0, 1500.0, 9000.0, 4500.0, 1200.0, 11500.0, 4000.0, 4500.0, 2500.0, 5500.0, 8000.0, 2500.0, 1500.0, 7500.0, 6500.0, 2000.0, 10000.0, 1500.0, 1500.0, 4500.0, 4000.0, 3000.0, 700.0, 8000.0, 1500.0, 10000.0, 2500.0, 4000.0, 2000.0, 2283.333333, 4000.0, 5000.0, 1000.0, 3000.0, 1000.0, 1000.0, 5500.0, 3000.0, 1800.0, 1200.0, 3000.0, 500.0, 7000.0, 11000.0, 7500.0, 5000.0, 2500.0, 1500.0, 3000.0, 7500.0, 8500.0, 11000.0, 9700.0, 4000.0, 1200.0, 11500.0, 2000.0, 1000.0, 3500.0, 2500.0, 2000.0, 7500.0, 3000.0, 5500.0, 1500.0, 6500.0, 1000.0, 4000.0, 3000.0, 6000.0, 2000.0, 2500.0, 6500.0, 6000.0, 500.0, 7500.0, 8000.0, 4000.0, 2500.0, 1500.0, 500.0, 2500.0, 1000.0, 500.0, 1200.0, 3500.0, 1700.0, 9000.0, 3500.0, 10000.0, 4500.0, 2100.0, 4000.0, 1500.0, 3000.0, 3000.0, 4500.0, 1500.0, 1000.0, 500.0, 1800.0, 4000.0, 3000.0, 4000.0, 3000.0, 3000.0, 5000.0, 10000.0, 4000.0, 1500.0, 1800.0, 7000.0, 1000.0, 7500.0, 3500.0, 600.0, 4000.0, 3500.0, 7500.0, 12000.0, 1800.0, 4500.0, 2000.0, 3000.0, 5000.0, 3000.0, 7500.0, 1500.0, 10500.0, 3000.0, 1500.0, 3000.0, 1000.0, 8000.0, 3000.0, 1000.0, 4000.0, 10500.0, 3000.0, 2500.0, 2500.0, 2500.0, 6500.0, 4000.0, 5500.0, 8000.0, 6500.0, 4000.0, 4500.0, 6000.0, 11500.0, 4000.0, 1200.0, 8500.0, 11000.0, 2500.0, 12500.0, 6500.0, 7500.0, 9000.0, 1500.0, 12500.0, 7000.0, 1800.0, 1200.0, 5000.0, 12000.0, 7500.0, 2000.0, 2500.0, 1500.0, 5000.0, 8000.0, 1500.0, 1200.0, 9000.0, 2500.0, 6000.0, 6000.0, 1500.0, 4000.0, 1200.0, 4400.0, 3000.0, 3000.0, 10000.0, 1500.0, 12000.0, 2500.0, 7000.0, 7000.0, 2500.0, 2000.0, 9400.0, 1500.0, 3000.0, 2000.0, 3500.0, 5000.0, 1500.0, 10500.0, 1500.0, 3000.0, 1300.0, 500.0, 1000.0, 2700.0, 7500.0, 4500.0, 5000.0, 5000.0, 1000.0, 5000.0, 4000.0, 12500.0, 4000.0, 1200.0, 7000.0, 3000.0, 1000.0, 1500.0, 2000.0, 5400.0, 6000.0, 1800.0, 9000.0, 3400.0, 3500.0, 6700.0, 1200.0, 1200.0, 1500.0, 2500.0, 2500.0, 6500.0, 1200.0, 1800.0, 4000.0, 10500.0, 2000.0, 9500.0, 1200.0, 1600.0, 7000.0, 3000.0, 6000.0, 3000.0, 1500.0, 2500.0, 5000.0, 7000.0, 1000.0, 3000.0, 6000.0, 2500.0, 2500.0, 2500.0, 6500.0, 1500.0, 4200.0, 3500.0, 1200.0, 5000.0, 3000.0, 3000.0, 1500.0, 1500.0, 4500.0, 7500.0, 2500.0, 1000.0, 6500.0, 4000.0, 10000.0, 8500.0, 7500.0, 3000.0, 4000.0, 9000.0, 6000.0, 4500.0, 2500.0, 4000.0, 2500.0, 1500.0, 1800.0, 1500.0, 8000.0, 1000.0, 1400.0, 1300.0, 1200.0, 7500.0, 8000.0, 3000.0, 5000.0, 1500.0, 2000.0, 5000.0, 3000.0, 3500.0, 1200.0, 6000.0, 3000.0, 4000.0, 3000.0, 6500.0, 6000.0, 8000.0, 1000.0, 9500.0, 1500.0, 3000.0, 1000.0, 4000.0, 4000.0, 4500.0, 6000.0, 4000.0, 3000.0, 5000.0, 1200.0, 7500.0, 3000.0, 3500.0, 1500.0, 6000.0, 3000.0, 3000.0, 4000.0, 2500.0, 3000.0, 5000.0, 6500.0, 3000.0, 1500.0, 7500.0, 1400.0, 5500.0, 3500.0, 9500.0, 4000.0, 3000.0, 6500.0, 3000.0, 2725.0, 6500.0, 11500.0, 2500.0, 3000.0, 1200.0, 3200.0, 6200.0, 1200.0, 1800.0, 1800.0, 8500.0, 6000.0, 3000.0, 2500.0, 11500.0, 2200.0, 1500.0, 6000.0, 6500.0, 9500.0, 3000.0, 3000.0, 6000.0, 1200.0, 4500.0, 1000.0, 3000.0, 6000.0, 6000.0, 3000.0, 2500.0, 7500.0, 6000.0, 5700.0, 1200.0, 5500.0, 13000.0, 3000.0, 2500.0, 2000.0, 7500.0, 4500.0, 6000.0, 2500.0, 1500.0, 1500.0, 1500.0, 1500.0, 7000.0, 2500.0, 1000.0, 8000.0, 2500.0, 2000.0, 2500.0, 3000.0, 1700.0, 7000.0, 3000.0, 1200.0, 3000.0, 5000.0, 6500.0, 5500.0, 4000.0, 7000.0, 5000.0, 4500.0, 1500.0, 3000.0, 6000.0, 6000.0, 3000.0, 2500.0, 2400.0, 450.0, 12000.0, 1000.0, 4000.0, 8500.0, 1500.0, 2000.0, 1200.0, 6500.0, 6000.0, 12000.0, 1200.0, 4500.0, 2150.0, 2500.0, 3000.0, 4000.0, 7000.0, 5500.0, 2500.0, 1200.0, 4500.0, 2500.0, 6000.0, 5500.0, 8700.0, 8500.0, 2500.0, 1200.0, 1200.0, 6000.0, 2500.0, 4000.0, 9000.0, 2500.0, 5000.0, 3000.0, 3000.0, 1800.0, 1000.0, 1750.0, 3000.0, 4000.0, 1000.0, 3000.0, 1800.0, 6400.0, 1800.0, 7000.0, 1500.0, 1600.0, 3000.0, 12300.0, 5000.0, 8500.0, 4500.0, 2500.0, 4000.0, 12500.0, 1200.0, 8000.0, 10000.0, 1500.0, 1200.0, 6000.0, 1300.0, 1700.0, 3000.0, 4100.0, 2000.0, 7500.0, 1500.0, 9000.0, 1200.0, 1500.0, 2500.0, 1000.0, 4500.0, 3000.0, 10000.0, 3000.0, 1500.0, 7000.0, 3000.0, 1500.0, 6000.0, 7000.0, 2000.0, 6000.0, 5000.0, 1900.0, 3000.0, 4000.0, 6000.0, 3500.0, 1800.0, 1500.0, 3000.0, 2500.0, 6000.0, 6000.0, 3500.0, 1500.0, 3000.0, 2500.0, 4300.0, 3000.0, 5500.0, 2500.0, 9500.0, 4500.0, 5700.0, 12000.0, 9000.0, 1200.0, 6000.0, 8000.0, 3000.0, 1500.0, 1600.0, 9500.0, 7050.0, 6500.0, 1500.0, 4000.0, 2000.0, 1800.0, 2000.0, 3000.0, 5000.0, 1200.0, 10500.0, 6000.0, 12500.0, 7500.0, 6000.0, 1700.0, 7000.0, 1800.0, 9000.0, 2500.0, 1800.0, 5000.0, 4000.0, 1550.0, 1800.0, 3500.0, 3000.0, 1500.0, 3000.0, 1500.0, 5000.0, 12000.0, 6000.0, 1500.0, 6000.0, 1500.0, 3200.0, 4500.0, 10000.0, 6000.0, 1200.0, 2500.0, 5000.0, 10000.0, 7000.0, 1500.0, 2500.0, 2500.0, 600.0, 4000.0, 9500.0, 4400.0, 1000.0, 6000.0, 2700.0, 1500.0, 3000.0, 6000.0, 5000.0, 1200.0, 300.0, 3000.0, 6200.0, 2500.0, 9500.0, 3750.0, 3500.0, 6400.0, 4200.0, 1000.0, 1200.0, 3000.0, 2500.0, 2500.0, 1800.0, 1500.0, 6000.0, 7000.0, 2500.0, 7000.0, 4000.0, 9500.0, 6000.0, 9000.0, 2000.0, 5000.0, 1000.0, 6500.0, 5500.0, 4000.0, 500.0, 2750.0, 8000.0, 2000.0, 2200.0, 6000.0, 150.0, 3000.0, 2200.0, 4000.0, 6000.0, 5000.0, 9000.0, 9000.0, 6000.0, 6000.0, 1000.0, 3000.0, 4000.0, 1800.0, 3000.0, 11500.0, 2200.0, 5000.0, 3000.0, 1000.0, 6000.0, 6500.0, 2500.0, 5000.0, 2500.0, 7000.0, 3200.0, 1500.0, 7500.0, 2700.0, 1500.0, 2500.0, 6500.0, 5000.0, 1000.0, 4000.0, 10000.0, 3000.0, 4500.0, 3000.0, 1800.0, 3000.0, 1500.0, 1200.0, 6500.0, 9000.0, 5000.0, 1500.0, 3000.0, 2000.0, 1500.0, 1500.0, 2000.0, 5500.0, 6000.0, 1800.0, 1800.0, 8000.0, 4000.0, 3000.0, 2500.0, 5200.0, 1000.0, 4000.0, 6000.0, 3000.0, 9500.0, 3000.0, 1500.0, 3000.0, 1200.0, 7000.0, 10000.0, 5000.0, 3500.0, 1200.0, 10500.0, 9000.0, 3500.0, 450.0, 2600.0, 1000.0, 2900.0, 3000.0, 1500.0, 3000.0, 1000.0, 2500.0, 7000.0, 4500.0, 6500.0, 3000.0, 1500.0, 6000.0, 1000.0, 6000.0, 1000.0, 12000.0, 4000.0, 5000.0, 3000.0, 10500.0, 3000.0, 500.0, 12500.0, 5200.0, 6500.0, 6000.0, 1800.0, 7500.0, 5500.0, 1500.0, 2500.0, 12000.0, 400.0, 6000.0, 6000.0, 1500.0, 1500.0, 3000.0, 1000.0, 1000.0, 8000.0, 2500.0, 1500.0, 9000.0, 3000.0, 5000.0, 8000.0, 1500.0, 1500.0, 1000.0, 1200.0, 2900.0, 5000.0, 3000.0, 6000.0, 3000.0, 4000.0, 4000.0, 2500.0, 3000.0, 6000.0, 11500.0, 2500.0, 1200.0, 2000.0, 1500.0, 5000.0, 7000.0, 4000.0, 1200.0, 2500.0, 6500.0, 1500.0, 1500.0, 3500.0, 6000.0, 6000.0, 1500.0, 1200.0, 7500.0, 1500.0, 1500.0, 8200.0, 6000.0, 1500.0, 4000.0, 3000.0, 5000.0, 2500.0, 3200.0, 1800.0, 1200.0, 4000.0, 3000.0, 1500.0, 1000.0, 7000.0, 500.0, 6000.0, 1500.0, 1500.0, 2500.0, 2000.0, 7500.0, 2500.0, 1800.0, 7000.0, 1000.0, 3900.0, 2500.0, 1500.0, 6500.0, 4000.0, 7000.0, 6000.0, 6000.0, 4000.0, 7500.0, 1000.0, 7500.0, 1500.0, 2000.0, 6500.0, 3000.0, 1200.0, 7500.0, 9500.0, 4500.0, 4500.0, 5500.0, 12000.0, 2500.0, 6000.0, 2500.0, 5000.0, 1400.0, 1500.0, 1500.0, 7500.0, 6000.0, 1000.0, 7500.0, 12000.0, 1200.0, 2000.0, 2500.0, 13000.0, 1000.0, 2000.0, 9000.0, 6000.0, 3500.0, 7500.0, 10000.0, 2000.0, 1800.0, 7500.0, 4000.0, 1200.0, 5500.0, 1000.0, 1200.0, 3000.0, 12000.0, 1500.0, 1200.0, 3500.0, 1200.0, 1800.0, 8000.0, 12000.0, 4500.0, 3000.0, 5000.0, 3000.0, 6500.0, 1200.0, 3500.0, 1000.0, 2500.0, 6500.0, 5000.0, 1500.0, 10000.0, 2000.0, 1000.0, 1000.0, 7000.0, 9500.0, 6000.0, 5000.0, 1800.0, 1000.0, 2300.0, 6500.0, 8000.0, 1500.0, 4900.0, 7500.0, 5500.0, 2000.0, 1800.0, 3700.0, 12000.0, 5200.0, 6000.0, 4000.0, 6500.0, 2000.0, 2000.0, 3000.0, 5500.0, 3000.0, 7500.0, 7500.0, 2700.0, 5000.0, 2000.0, 1200.0, 6500.0, 1500.0, 4500.0, 3500.0, 8000.0, 6500.0, 5000.0, 11000.0, 1200.0, 1000.0, 8000.0, 1800.0, 2500.0, 4500.0, 8500.0, 10000.0, 5000.0, 5000.0, 1500.0, 4000.0, 9000.0, 6500.0, 8500.0, 3000.0, 2000.0, 2500.0, 6000.0, 7000.0, 3000.0, 5700.0, 9000.0, 1500.0, 11500.0, 1500.0, 5000.0, 2000.0, 6000.0, 7000.0, 1000.0, 6500.0, 2000.0, 2800.0, 2000.0, 12000.0, 5700.0, 7500.0, 1500.0, 600.0, 5500.0, 9800.0, 3000.0, 4000.0, 2800.0, 5000.0, 7000.0, 7000.0, 2250.0, 2100.0, 500.0, 3000.0, 1000.0, 5000.0, 4000.0, 7500.0, 1000.0, 2500.0, 1500.0, 2500.0, 3000.0, 3400.0, 5000.0, 10000.0, 2500.0, 7000.0, 3000.0, 6600.0, 5500.0, 6000.0, 6200.0, 2200.0, 4500.0, 6000.0, 8000.0, 1500.0, 700.0, 600.0, 1500.0, 4500.0, 300.0, 3000.0, 1500.0, 11000.0, 2000.0, 1500.0, 2500.0, 3000.0, 5000.0, 5500.0, 2900.0, 1500.0, 3500.0, 1500.0, 1700.0, 1200.0, 1200.0, 2000.0, 7000.0, 1200.0, 9500.0, 4000.0, 1200.0, 1500.0, 2500.0, 2000.0, 3500.0, 5000.0, 9000.0, 2150.0, 2500.0, 1700.0, 3000.0, 6000.0, 6500.0, 7000.0, 8000.0, 7000.0, 3000.0, 3000.0, 4000.0, 4000.0, 4500.0, 6500.0, 6500.0, 2000.0, 1200.0, 3000.0, 1200.0, 2000.0, 1500.0, 8000.0, 1800.0, 1200.0, 3500.0, 3000.0, 7000.0, 600.0, 4000.0, 3000.0, 2500.0, 4200.0, 1500.0, 2500.0, 8000.0, 500.0, 1000.0, 7000.0, 3500.0, 5000.0, 1800.0, 10000.0, 8500.0, 1200.0, 4500.0, 5700.0, 8000.0, 5450.0, 2500.0, 1000.0, 9000.0, 3000.0, 3000.0, 1500.0, 1500.0, 4000.0, 2400.0, 8000.0, 2500.0, 1500.0, 9000.0, 5000.0, 2500.0, 800.0, 6000.0, 5000.0, 500.0, 3500.0, 5000.0, 5000.0, 8000.0, 3000.0, 6000.0, 3000.0, 1000.0, 2000.0, 2500.0, 4500.0, 1700.0, 1000.0, 5000.0, 4000.0, 1700.0, 3500.0, 1200.0, 2500.0, 1500.0, 2500.0, 3000.0, 6000.0, 2500.0, 2500.0, 2500.0, 1000.0, 2000.0, 1200.0, 11000.0, 3500.0, 3500.0, 4000.0, 4500.0, 1200.0, 5000.0, 3000.0, 1000.0, 2000.0, 4000.0, 2000.0, 11000.0, 7500.0, 7500.0, 5500.0, 2500.0, 3000.0, 10000.0, 2000.0, 3500.0, 12500.0, 3000.0, 1500.0, 3000.0, 1000.0, 5000.0, 4200.0, 500.0, 7000.0, 1000.0, 1600.0, 1800.0, 4000.0, 1200.0, 4500.0, 6500.0, 8000.0, 2500.0, 2500.0, 2500.0, 1000.0, 3000.0, 2500.0, 3000.0, 1200.0, 6500.0, 1500.0, 7500.0, 6500.0, 11000.0, 1500.0, 1500.0, 600.0, 2500.0, 2400.0, 9500.0, 2500.0, 3000.0, 750.0, 5000.0, 1200.0, 7000.0, 7000.0, 1500.0, 7000.0, 4500.0, 1500.0, 6000.0, 6000.0, 3000.0, 6000.0, 1200.0, 2000.0, 2000.0, 4000.0, 1500.0, 2500.0, 7500.0, 1200.0, 3000.0, 2000.0, 1000.0, 8500.0, 5000.0, 4500.0, 2000.0, 4700.0, 7000.0, 4000.0, 1200.0, 6000.0, 6500.0, 1200.0, 500.0, 1500.0, 10000.0, 2000.0, 4000.0, 3000.0, 2500.0, 5000.0, 3000.0, 6000.0, 7000.0, 1200.0, 1200.0, 3700.0, 3000.0, 2000.0, 1000.0, 7500.0, 3000.0, 4000.0, 2500.0, 2500.0, 2500.0, 5000.0, 1800.0, 1000.0, 3300.0, 1200.0, 5000.0, 1200.0, 7000.0, 1500.0, 4500.0, 1500.0, 9500.0, 2000.0, 1700.0, 1500.0, 11000.0, 5000.0, 3000.0, 1200.0, 8500.0, 3500.0, 3000.0, 3000.0, 2500.0, 4500.0, 2500.0, 8954.545455, 1000.0, 7000.0, 4700.0, 13000.0, 4000.0, 1200.0, 2500.0, 2200.0, 8000.0, 4000.0, 1200.0, 10500.0, 2950.0, 3500.0, 2450.0, 1800.0, 3000.0, 1000.0, 5000.0, 3500.0, 1050.0, 1200.0, 600.0, 3700.0, 7000.0, 3000.0, 1200.0, 5000.0, 4000.0, 1500.0, 1500.0, 3000.0, 5500.0, 1800.0, 1500.0, 7000.0, 1200.0, 5500.0, 2500.0, 4000.0, 4500.0, 8000.0, 5000.0, 3500.0, 2200.0, 3200.0, 9000.0, 3000.0, 1000.0, 7000.0, 12000.0, 1000.0, 3000.0, 1200.0, 1000.0, 3500.0, 6000.0, 5000.0, 1200.0, 2200.0, 6000.0, 1500.0, 1200.0, 2500.0, 1500.0, 8000.0, 5700.0, 5000.0, 1800.0, 4500.0, 2000.0, 7000.0, 2500.0, 4000.0, 4000.0, 1800.0, 6000.0, 4500.0, 4000.0, 600.0, 2000.0, 1500.0, 5000.0, 1700.0, 2500.0, 5500.0, 5000.0, 4500.0, 3000.0, 3200.0, 6000.0, 5000.0, 2500.0, 3500.0, 4000.0, 2000.0, 1000.0, 9000.0, 1000.0, 2500.0, 5500.0, 1500.0, 3500.0, 5000.0, 8000.0, 1700.0, 3500.0, 1800.0, 4500.0, 4000.0, 7000.0, 2500.0, 5000.0, 7500.0, 10500.0, 9000.0, 8000.0, 6700.0, 3000.0, 2500.0, 7000.0, 11000.0, 2000.0, 6500.0, 10500.0, 1500.0, 3000.0, 3000.0, 500.0, 2000.0, 7000.0, 6500.0, 6850.0, 1200.0, 1200.0, 2500.0, 7500.0, 1500.0, 4000.0, 9000.0, 1800.0, 5400.0, 4000.0, 7500.0, 3000.0, 6000.0, 3000.0, 3000.0, 4000.0, 1500.0, 7000.0, 4500.0, 3000.0, 5250.0, 1000.0, 13500.0, 6500.0, 4000.0, 8000.0, 3000.0, 6000.0, 10000.0, 3000.0, 6000.0, 2500.0, 1200.0, 5500.0, 2500.0, 4000.0, 3000.0, 5000.0, 4950.0, 3000.0, 10500.0, 3500.0, 1200.0, 1500.0, 2000.0, 9500.0, 4300.0, 1000.0, 5100.0, 500.0, 7500.0, 1200.0, 2500.0, 1200.0, 7000.0, 2500.0, 4000.0, 2500.0, 3000.0, 1500.0, 2000.0, 7000.0, 4000.0, 1200.0, 3000.0, 13000.0, 1600.0, 6500.0, 1500.0, 6000.0, 1200.0, 1200.0, 8000.0, 1700.0, 6500.0, 4000.0, 8000.0, 5000.0, 300.0, 11000.0, 5500.0, 3000.0, 3000.0, 5500.0, 5000.0, 1500.0, 3500.0, 4000.0, 1500.0, 6000.0, 5000.0, 4500.0, 4000.0, 4000.0, 4300.0, 1500.0, 1500.0, 1500.0, 3500.0, 2500.0, 5000.0, 3000.0, 8000.0, 6500.0, 2500.0, 3000.0, 1500.0, 2500.0, 5000.0, 1000.0, 4000.0, 3000.0, 4000.0, 7500.0, 3000.0, 4000.0, 6500.0, 4500.0, 10300.0, 1200.0, 5000.0, 5000.0, 10000.0, 5900.0, 6500.0, 10000.0, 1000.0, 1000.0, 5500.0, 1200.0, 1500.0, 1000.0, 2500.0, 3000.0, 4000.0, 1000.0, 5000.0, 4500.0, 13000.0, 3000.0, 4000.0, 3400.0, 1200.0, 5000.0, 8000.0, 5000.0, 2000.0, 1000.0, 11000.0, 4500.0, 2000.0, 4500.0, 6000.0, 1500.0, 5000.0, 1000.0, 300.0, 3000.0, 1500.0, 2500.0, 700.0, 1200.0, 3200.0, 1900.0, 1500.0, 1000.0, 5300.0, 9000.0, 1200.0, 4500.0, 1200.0, 2000.0, 11500.0, 2000.0, 3000.0, 3000.0, 1000.0, 12000.0, 2000.0, 2900.0, 3000.0, 7000.0, 6000.0, 2000.0, 1500.0, 6000.0, 3000.0, 5000.0, 6000.0, 6000.0, 3000.0, 5000.0, 8000.0, 4000.0, 2500.0, 1700.0, 1000.0, 2500.0, 1200.0, 1200.0, 1500.0, 2500.0, 3000.0, 1000.0, 1500.0, 8500.0, 1500.0, 2900.0, 3000.0, 12000.0, 1500.0, 1500.0, 4000.0, 3000.0, 6500.0, 5000.0, 1250.0, 4000.0, 3000.0, 2500.0, 1200.0, 6000.0, 1500.0, 1200.0, 1500.0, 700.0, 1050.0, 2500.0, 1000.0, 1200.0, 6000.0, 7500.0, 2400.0, 1700.0, 1500.0, 2000.0, 1000.0, 2500.0, 6000.0, 150.0, 1200.0, 1000.0, 3000.0, 6000.0, 3000.0, 2500.0, 1200.0, 5000.0, 3500.0, 7000.0, 5000.0, 2500.0, 2000.0, 6500.0, 1800.0, 2500.0, 3000.0, 4500.0, 150.0, 6500.0, 2000.0, 7500.0, 1200.0, 1000.0, 2500.0, 1000.0, 1000.0, 1000.0, 2000.0, 4500.0, 4000.0, 2700.0, 9000.0, 3400.0, 5000.0, 5000.0, 1200.0, 1500.0, 7000.0, 3000.0, 4000.0, 6000.0, 1200.0, 4000.0, 2500.0, 400.0, 2000.0, 7000.0, 1600.0, 2000.0, 2500.0, 6000.0, 2500.0, 5000.0, 1500.0, 10000.0, 1200.0, 6000.0, 3000.0, 1000.0, 500.0, 4000.0, 1500.0, 2000.0, 2500.0, 2000.0, 3000.0, 1200.0, 6000.0, 1500.0, 1500.0, 3000.0, 4500.0, 3000.0, 3000.0, 3000.0, 5500.0, 2000.0, 7000.0, 3500.0, 3000.0, 3400.0, 2900.0, 3500.0, 3500.0, 4000.0, 4500.0, 5000.0, 2500.0, 11500.0, 1200.0, 6000.0, 1700.0, 1900.0, 1000.0, 1200.0, 1800.0, 2000.0, 3000.0, 1200.0, 1200.0, 3000.0, 3500.0, 1500.0, 10500.0, 2500.0, 1500.0, 1500.0, 1800.0, 3000.0, 1500.0, 2500.0, 6000.0, 1200.0, 1200.0, 3000.0, 2900.0, 6000.0, 2500.0, 2500.0, 3000.0, 7500.0, 4000.0, 1500.0, 500.0, 3000.0, 1500.0, 2500.0, 2000.0, 2500.0, 4500.0, 1000.0, 6000.0, 7500.0, 3000.0, 1500.0, 1200.0, 8500.0, 4500.0, 4500.0, 6000.0, 1800.0, 1000.0, 1500.0, 4000.0, 2500.0, 2500.0, 2000.0, 1500.0, 5000.0, 1500.0, 1800.0, 2000.0, 1800.0, 1800.0, 4000.0, 4000.0, 2900.0, 10000.0, 1500.0, 1500.0, 5000.0, 2500.0, 3500.0, 5000.0, 2500.0, 2500.0, 6000.0, 2500.0, 6000.0, 4000.0, 1800.0, 2500.0, 4000.0, 1200.0, 3000.0, 300.0, 5000.0, 3500.0, 2000.0, 1000.0, 6000.0, 900.0, 3500.0, 1200.0, 1500.0, 3000.0, 2500.0, 4500.0, 3000.0, 1000.0, 1500.0, 2500.0, 6100.0, 6500.0, 1000.0, 9600.0, 3750.0, 7000.0, 6000.0, 5900.0, 3000.0, 1000.0, 3000.0, 1400.0, 3000.0, 2900.0, 3000.0, 6000.0, 5000.0, 5000.0, 2000.0, 1300.0, 700.0, 5000.0, 3000.0, 1200.0, 1500.0, 2000.0, 800.0, 1000.0, 1500.0, 900.0, 1500.0, 1000.0, 1500.0, 4000.0, 4000.0, 2500.0, 1000.0, 2700.0, 1200.0, 7500.0, 1000.0, 4000.0, 1000.0, 2000.0, 2950.0, 1400.0, 5000.0, 1200.0, 1200.0, 3000.0, 4000.0, 3000.0, 1900.0, 1000.0, 3000.0, 1000.0, 2100.0, 3500.0, 700.0, 3000.0, 2000.0, 6500.0, 2500.0, 1200.0, 9000.0, 5000.0, 1800.0, 1800.0, 3000.0, 2500.0, 3000.0, 3000.0, 1000.0, 1500.0, 4000.0, 1500.0, 800.0, 4000.0, 5000.0, 2000.0, 6000.0, 1800.0, 3000.0, 3000.0, 10500.0, 2000.0, 4500.0, 2000.0, 1900.0, 5000.0, 3500.0, 1500.0, 5000.0, 7000.0, 5000.0, 4000.0, 10000.0, 1500.0, 5000.0, 1500.0, 2000.0, 1200.0, 2000.0, 1000.0, 5000.0, 2500.0, 1500.0, 1200.0, 5000.0, 9000.0, 500.0, 1200.0, 1000.0, 1500.0, 5000.0, 6000.0, 6000.0, 1500.0, 2500.0, 4000.0, 1200.0, 8500.0, 2500.0, 1000.0, 1200.0, 2500.0, 900.0, 1200.0, 6000.0, 3500.0, 2000.0, 1500.0, 2000.0, 2000.0, 2900.0, 1500.0, 2000.0, 1200.0, 2500.0, 3000.0, 1500.0, 10000.0, 2500.0, 1500.0, 2900.0, 4000.0, 2500.0, 8000.0, 2500.0, 1800.0, 1200.0, 8000.0, 1000.0, 6500.0, 4000.0, 6500.0, 7500.0, 7000.0, 2500.0, 1000.0, 2500.0, 900.0, 2500.0, 6000.0, 1500.0, 3000.0, 1500.0, 7500.0, 3500.0, 1000.0, 4500.0, 1000.0, 1200.0, 1200.0, 5000.0, 1200.0, 1900.0, 4000.0, 7500.0, 4000.0, 1500.0, 1500.0, 6000.0, 4500.0, 3500.0, 1000.0, 1500.0, 6000.0, 4000.0, 5000.0, 6500.0, 1300.0, 1200.0, 1000.0, 1200.0, 2000.0, 1000.0, 6000.0, 1000.0, 2500.0, 700.0, 5500.0, 5000.0, 1400.0, 1000.0, 450.0, 5000.0, 2000.0, 1200.0, 50.0, 1000.0, 6500.0, 3000.0, 1500.0, 1200.0, 1200.0, 700.0, 8500.0, 1100.0, 3500.0, 1800.0, 3000.0, 7000.0, 5000.0, 3000.0, 1000.0, 2500.0, 5000.0, 1500.0, 4000.0, 1000.0, 1800.0, 1200.0, 6000.0, 4500.0, 1000.0, 4500.0, 2500.0, 6000.0, 2000.0, 1000.0, 1500.0, 2500.0, 2000.0, 7500.0, 1400.0, 5000.0, 4000.0, 1500.0, 2500.0, 6500.0, 3000.0, 1200.0, 4000.0, 5000.0, 2000.0, 2000.0, 10000.0, 4000.0, 4500.0, 300.0, 4000.0, 1800.0, 4000.0, 3000.0, 1000.0, 2500.0, 1000.0, 4500.0, 5000.0, 4000.0, 1600.0, 3000.0, 1200.0, 3000.0, 5000.0, 2500.0, 6500.0, 3000.0, 1500.0, 2500.0, 4000.0, 2500.0, 5000.0, 2000.0, 6500.0, 2000.0, 7000.0, 1000.0, 2500.0, 1500.0, 6500.0, 1200.0, 5000.0, 3000.0, 3000.0, 5000.0, 4500.0, 4800.0, 5000.0, 1200.0, 1200.0, 1200.0, 1500.0, 1500.0, 3000.0, 1500.0, 10750.0, 2000.0, 1000.0, 3000.0, 500.0, 2500.0, 3000.0, 6500.0, 2000.0, 800.0, 1800.0, 1500.0, 1200.0, 3000.0, 4500.0, 1500.0, 2500.0, 2000.0, 3000.0, 2500.0, 2500.0, 1000.0, 1800.0, 4500.0, 6500.0, 500.0, 1200.0, 3000.0, 7500.0, 5000.0, 2500.0, 1500.0, 2500.0, 1900.0, 1500.0, 2000.0, 2500.0, 1500.0, 2700.0, 3000.0, 1200.0, 2500.0, 6000.0, 6000.0, 5000.0, 1200.0, 3000.0, 1500.0, 4000.0, 900.0, 3000.0, 2000.0, 1200.0, 2700.0, 6000.0, 3000.0, 4000.0, 4000.0, 3000.0, 1500.0, 3000.0, 4000.0, 1200.0, 2500.0, 3000.0, 1200.0, 1900.0, 3000.0, 3000.0, 600.0, 2500.0, 5000.0, 12500.0, 1000.0, 2000.0, 1000.0, 5000.0, 5000.0, 1500.0, 3000.0, 1500.0, 700.0, 9000.0, 10000.0, 2500.0, 500.0, 1200.0, 2000.0, 1400.0, 1200.0, 1500.0, 4000.0, 5000.0, 1500.0, 1700.0, 5000.0, 2500.0, 4000.0, 2500.0, 700.0, 3000.0, 2500.0, 4000.0, 3000.0, 2000.0, 2000.0, 7000.0, 3000.0, 1500.0, 2500.0, 1000.0, 2000.0, 5000.0, 1200.0, 1200.0, 2000.0, 4000.0, 1200.0, 5000.0, 1200.0, 2500.0, 4000.0, 6000.0, 1800.0, 2500.0, 3000.0, 1500.0, 1600.0, 4500.0, 1500.0, 1000.0, 1700.0, 4000.0, 1500.0, 5000.0, 450.0, 1500.0, 10500.0, 3400.0, 3500.0, 1400.0, 5000.0, 1900.0, 3000.0, 1000.0, 9500.0, 4000.0, 1200.0, 4000.0, 1000.0, 3000.0, 4000.0, 6500.0, 1000.0, 6500.0, 1500.0, 1000.0, 3000.0, 2000.0, 2500.0, 1500.0, 2000.0, 8500.0, 700.0, 2500.0, 4000.0, 2000.0, 3000.0, 2000.0, 6000.0, 1000.0, 1200.0, 10500.0, 2500.0, 4000.0, 6500.0, 3000.0, 1500.0, 1200.0, 7500.0, 3000.0, 5500.0, 5000.0, 800.0, 6500.0, 1120.0, 6000.0, 2500.0, 1200.0, 8000.0, 1200.0, 1200.0, 5000.0, 1200.0, 1000.0, 5500.0, 4000.0, 2500.0, 3000.0, 1500.0, 500.0, 3500.0, 3000.0, 4000.0, 8500.0, 1200.0, 5000.0, 2500.0, 3000.0, 2500.0, 1500.0, 1000.0, 7000.0, 9000.0, 1000.0, 2500.0, 2000.0, 2500.0, 3000.0, 2500.0, 4500.0, 1000.0, 3000.0, 9000.0, 1500.0, 2500.0, 6500.0, 5500.0, 2000.0, 9000.0, 2500.0, 600.0, 1000.0, 800.0, 2500.0, 1500.0, 3000.0, 1500.0, 1500.0, 1500.0, 2500.0, 4500.0, 2500.0, 4000.0, 2000.0, 2000.0, 2000.0, 3000.0, 4000.0, 1000.0, 4500.0, 3000.0, 1500.0, 1700.0, 2000.0, 5000.0, 1500.0, 1700.0, 6000.0, 500.0, 1500.0, 3500.0, 1500.0, 2500.0, 1500.0, 1500.0, 2500.0, 1500.0, 4000.0, 4000.0, 1200.0, 2500.0, 2000.0, 3000.0, 1700.0, 3000.0, 1200.0, 500.0, 2500.0, 1200.0, 10500.0, 2000.0, 1500.0, 7500.0, 1800.0, 5000.0, 5500.0, 5000.0, 1200.0, 2000.0, 2500.0, 4000.0, 7500.0, 1200.0, 5000.0, 1700.0, 3400.0, 1500.0, 1000.0, 2500.0, 2500.0, 10000.0, 1700.0, 3000.0, 2700.0, 1700.0, 2500.0, 3000.0, 600.0, 7000.0, 2000.0, 3200.0, 3000.0, 1200.0, 4000.0, 4500.0, 4000.0, 4500.0, 1500.0, 5000.0, 2500.0, 4000.0, 1700.0, 1000.0, 1200.0, 9000.0, 1200.0, 1500.0, 13450.0, 1000.0, 1200.0, 1500.0, 3500.0, 3000.0, 9000.0, 3777.777778, 1800.0, 3500.0, 2700.0, 1500.0, 700.0, 3000.0, 1000.0, 1200.0, 3500.0, 5000.0, 2500.0, 4200.0, 3000.0, 1500.0, 2500.0, 1400.0, 1500.0, 1000.0, 1500.0, 1000.0, 3000.0, 1200.0, 4500.0, 1500.0, 1200.0, 2000.0, 2500.0, 2500.0, 1500.0, 3000.0, 1200.0, 3500.0, 2500.0, 1500.0, 3000.0, 1200.0, 2500.0, 5000.0, 1500.0, 3000.0, 2500.0, 12500.0, 9000.0, 3500.0, 1200.0, 2500.0, 2500.0, 3000.0, 800.0, 2700.0, 4000.0, 1200.0, 1000.0, 3000.0, 4000.0, 1000.0, 1000.0, 5000.0, 3000.0, 1000.0, 1500.0, 1200.0, 2500.0, 3000.0, 7000.0, 1500.0, 1000.0, 2700.0, 1200.0, 6000.0, 2700.0, 1500.0, 9000.0, 1400.0, 2000.0, 7000.0, 1000.0, 2500.0, 2500.0, 1200.0, 2500.0, 1700.0, 1000.0, 1200.0, 1200.0, 600.0, 1200.0, 3500.0, 3000.0, 1700.0, 1200.0, 500.0, 4000.0, 2500.0, 2500.0, 3000.0, 600.0, 3000.0, 3000.0, 3000.0, 3400.0, 9000.0, 1200.0, 3000.0, 2000.0, 1800.0, 1700.0, 2500.0, 1000.0, 1200.0, 1000.0, 1900.0, 3000.0, 2000.0, 2500.0, 1000.0, 3500.0, 1500.0, 3000.0, 2500.0, 1500.0, 3000.0, 1500.0, 2000.0, 1900.0, 650.0, 1200.0, 9500.0, 7500.0, 5000.0, 1900.0, 1200.0, 4000.0, 1200.0, 1500.0, 6500.0, 800.0, 1200.0, 1000.0, 1500.0, 2700.0, 6000.0, 3500.0, 4000.0, 1000.0, 2500.0, 3200.0, 1000.0, 3000.0, 3000.0, 2200.0, 1000.0, 3000.0, 5000.0, 1000.0, 1200.0, 1000.0, 2000.0, 2500.0, 1700.0, 1500.0, 1500.0, 500.0, 4500.0, 6000.0, 1000.0, 1000.0, 8000.0, 3000.0, 3000.0, 2500.0, 1000.0, 3000.0, 1500.0, 4000.0, 2000.0, 500.0, 2000.0, 1000.0, 1700.0, 1200.0, 3500.0, 5000.0, 1700.0, 1500.0, 5000.0, 1700.0, 4000.0, 1500.0, 2000.0, 2500.0, 1500.0, 3500.0, 1200.0, 5000.0, 1000.0, 6000.0, 4000.0, 2500.0, 2500.0, 900.0, 3000.0, 1200.0, 3000.0, 1000.0, 5000.0, 1000.0, 2000.0, 1000.0, 5000.0, 10000.0, 4000.0, 6500.0, 1500.0, 1200.0, 2000.0, 2700.0, 2500.0, 1500.0, 1500.0, 1500.0, 4000.0, 3000.0, 1000.0, 1000.0, 2500.0, 1700.0, 3800.0, 4000.0, 4000.0, 2000.0, 700.0, 8000.0, 1000.0, 5000.0, 9000.0, 700.0, 800.0, 1500.0, 5000.0, 700.0, 700.0, 4000.0, 1400.0, 4000.0, 5000.0, 3000.0, 1200.0, 3000.0, 2500.0, 3000.0, 3000.0, 3000.0, 5000.0, 450.0, 3000.0, 1800.0, 3000.0, 1200.0, 9000.0, 4000.0, 4000.0, 1000.0, 5000.0, 1700.0, 500.0, 4000.0, 2500.0, 3200.0, 3500.0, 2500.0, 1000.0, 1600.0, 1500.0, 4000.0, 4000.0, 2500.0, 5000.0, 2500.0, 1500.0, 1800.0, 4500.0, 9000.0, 7500.0, 1200.0, 2000.0, 5000.0, 4000.0, 2000.0, 1400.0, 3000.0, 1500.0, 3000.0, 4000.0, 1500.0, 2000.0, 1200.0, 2500.0, 7500.0, 6000.0, 3000.0, 4000.0, 9500.0, 2500.0, 1500.0, 1500.0, 4000.0, 2500.0, 2500.0, 2500.0, 300.0, 2000.0, 1000.0, 1000.0, 4500.0, 1000.0, 1200.0, 2500.0, 3000.0, 1200.0, 9000.0, 1000.0, 2000.0, 1500.0, 3000.0, 3500.0, 600.0, 2000.0, 1000.0, 4000.0, 3000.0, 1800.0, 1500.0, 1800.0, 5000.0, 2500.0, 1200.0, 1200.0, 2500.0, 1000.0, 2500.0, 1000.0, 1200.0, 1200.0, 3000.0, 4000.0, 3000.0, 4000.0, 2500.0, 1000.0, 1700.0, 1500.0, 5000.0, 1200.0, 500.0, 500.0, 1500.0, 2000.0, 4500.0, 2500.0, 6000.0, 1000.0, 1200.0, 1500.0, 500.0, 4500.0, 5500.0, 3000.0, 1500.0, 2500.0, 2500.0, 2500.0, 1500.0, 1700.0, 4000.0, 7000.0, 3000.0, 1000.0, 1600.0, 1000.0, 3500.0, 1800.0, 1000.0, 3000.0, 4500.0, 2500.0, 1200.0, 2500.0, 1000.0, 2500.0, 4000.0, 2500.0, 1800.0, 4000.0, 3000.0, 3000.0, 1000.0, 2000.0, 8000.0, 3000.0, 4000.0, 2000.0, 2500.0, 1000.0, 1500.0, 1200.0, 2500.0, 3000.0, 2000.0, 1000.0, 1000.0, 1200.0, 1500.0, 2000.0, 2500.0, 2000.0, 2500.0, 4500.0, 2500.0, 1500.0, 1500.0, 8000.0, 1000.0, 1200.0, 3500.0, 6000.0, 6000.0, 6000.0, 7500.0, 7500.0, 1000.0, 1000.0, 4500.0, 2000.0, 1500.0, 3000.0, 1500.0, 500.0, 2000.0, 1200.0, 4500.0, 1000.0, 2500.0, 2500.0, 1000.0, 2000.0, 2500.0, 2500.0, 1000.0, 500.0, 2500.0, 5000.0, 3500.0, 6500.0, 3600.0, 1200.0, 4500.0, 4000.0, 2500.0, 3000.0, 6000.0, 1200.0, 1200.0, 2500.0, 1200.0, 2500.0, 4000.0, 1500.0, 3000.0, 1000.0, 1000.0, 500.0, 1500.0, 1200.0, 2000.0, 1500.0, 9000.0, 2500.0, 1200.0, 4000.0, 1200.0, 2500.0, 500.0, 6500.0, 3000.0, 1200.0, 1000.0, 3000.0, 1000.0, 2000.0, 5400.0, 10500.0, 1000.0, 1000.0, 1000.0, 2700.0, 500.0, 2000.0, 3000.0, 2700.0, 1000.0, 1500.0, 2000.0, 2500.0, 1500.0, 4000.0, 4000.0, 2500.0, 2500.0, 2000.0, 1200.0, 1000.0, 3000.0, 3500.0, 5000.0, 9000.0, 6000.0, 6000.0, 1500.0, 2500.0, 1000.0, 4000.0, 1500.0, 2700.0, 3000.0, 1000.0, 5500.0, 1000.0, 3000.0, 3200.0, 1500.0, 1000.0, 4000.0, 1000.0, 7500.0, 3000.0, 2000.0, 7000.0, 1200.0, 2700.0, 4000.0, 5000.0, 2500.0, 4000.0, 1200.0, 1200.0, 2700.0, 4000.0, 1500.0, 4000.0, 1200.0, 1000.0, 2500.0, 1000.0, 1800.0, 1300.0, 4000.0, 7500.0, 500.0, 1000.0, 1500.0, 4000.0, 3000.0, 1000.0, 1000.0, 1000.0, 1700.0, 1500.0, 1700.0, 500.0, 2500.0, 3000.0, 10000.0, 3500.0, 1500.0, 6500.0, 1200.0, 2000.0, 1000.0, 1200.0, 1000.0, 4000.0, 1000.0, 4000.0, 1500.0, 4000.0, 1000.0, 1000.0, 3000.0, 2700.0, 2500.0, 1700.0, 1000.0, 1000.0, 3000.0, 2000.0, 1000.0, 2000.0, 2500.0, 5000.0, 1500.0, 4000.0, 2500.0, 3000.0, 3000.0, 2000.0, 2000.0, 2500.0, 2500.0, 1000.0, 1800.0, 3500.0, 4000.0, 1200.0, 1200.0, 3000.0, 2700.0, 7500.0, 1000.0, 1200.0, 1000.0, 1500.0, 3500.0, 2500.0, 2500.0, 1000.0, 3000.0, 3000.0, 2000.0, 3000.0, 1300.0, 1500.0, 1500.0, 1200.0, 2500.0, 2200.0, 1500.0, 7000.0, 6000.0, 1000.0, 1500.0, 1500.0, 10500.0, 1500.0, 2200.0, 2500.0, 2500.0, 1000.0, 500.0, 1200.0, 1500.0, 4000.0, 3000.0, 3000.0, 4000.0, 2500.0, 1500.0, 1700.0, 8000.0, 1000.0, 500.0, 1500.0, 2000.0, 1500.0, 7500.0, 1500.0, 1200.0, 3000.0, 1200.0, 1000.0, 4000.0, 1000.0, 7500.0, 1000.0, 1500.0, 2000.0, 2000.0, 1500.0, 2500.0, 1500.0, 1500.0, 1200.0, 1800.0, 2500.0, 500.0, 5000.0, 4000.0, 3000.0, 3000.0, 1200.0, 1700.0, 1000.0, 1500.0, 1500.0, 3000.0, 4000.0, 1200.0, 2000.0, 3000.0, 1000.0, 2500.0, 7000.0, 2000.0, 2000.0, 4000.0, 4000.0, 3200.0, 3500.0, 1200.0, 1200.0, 1200.0, 1000.0, 1000.0, 3000.0, 2500.0, 1000.0, 1500.0, 500.0, 4000.0, 4000.0, 1000.0, 1000.0, 2500.0, 3500.0, 3000.0, 1200.0, 1800.0, 3500.0, 2000.0, 1000.0, 4000.0, 4500.0, 2500.0, 1400.0, 2500.0, 1500.0, 1200.0, 6000.0, 2500.0, 3000.0, 1800.0, 2000.0, 1000.0, 2200.0, 9000.0, 1000.0, 1050.0, 1200.0, 3000.0, 500.0, 2000.0, 2500.0, 7000.0, 1500.0, 1200.0, 1200.0, 2000.0, 2000.0, 2500.0, 3500.0, 4000.0, 3000.0, 6000.0, 7500.0, 3000.0, 2700.0, 2500.0, 1000.0, 4000.0, 1000.0, 1200.0, 300.0, 2000.0, 1000.0, 3000.0, 1000.0, 1500.0, 1200.0, 1200.0, 4000.0, 1000.0, 3000.0, 3500.0, 2000.0, 3000.0, 3000.0, 1000.0, 1500.0, 3000.0, 2000.0, 2200.0, 2700.0, 1200.0, 6500.0, 2000.0, 3500.0, 1000.0, 1000.0, 1000.0, 2000.0, 2500.0, 1000.0, 3000.0, 3000.0, 1200.0, 2000.0, 8500.0, 1500.0, 1000.0, 1450.0, 500.0, 1800.0, 3500.0, 1000.0, 1000.0, 500.0, 3500.0, 2700.0, 1200.0, 3000.0, 2500.0, 1000.0, 2500.0, 1200.0, 1500.0, 4500.0, 1500.0, 10500.0, 1500.0, 11000.0, 1200.0, 2700.0, 500.0, 4000.0, 2000.0, 5000.0, 4000.0, 1200.0, 1000.0, 5000.0, 1000.0, 4000.0, 1000.0, 1000.0, 1200.0, 1500.0, 1200.0, 1000.0, 3500.0, 1800.0, 2000.0, 4000.0, 2500.0, 1000.0, 2000.0, 1000.0, 2700.0, 3000.0, 1000.0, 2500.0, 2500.0, 500.0, 3000.0, 2500.0, 2500.0, 1700.0, 2000.0, 10500.0, 5000.0, 4000.0, 2350.0, 3500.0, 2700.0, 2000.0, 1000.0, 2500.0, 2500.0, 5000.0, 2500.0, 2500.0, 1500.0, 1000.0, 300.0, 3000.0, 4000.0, 1200.0, 1000.0, 2500.0, 2500.0, 1000.0, 1400.0, 2000.0, 1500.0, 1200.0, 3000.0, 6000.0, 1000.0, 2000.0, 3000.0, 1200.0, 2000.0, 1500.0, 1000.0, 4000.0, 1000.0, 600.0, 1000.0, 4000.0, 1200.0, 3000.0, 2700.0, 2500.0, 2500.0, 2000.0, 1000.0, 1200.0, 1000.0, 5000.0, 1500.0, 2500.0, 9000.0, 1500.0, 6000.0, 500.0, 1500.0, 1500.0, 4000.0, 1500.0, 1200.0, 3000.0, 1200.0, 1200.0, 1500.0, 4000.0, 4000.0, 1200.0, 4000.0, 2500.0, 2000.0, 1000.0, 3000.0, 1000.0, 1000.0, 2500.0, 1200.0, 1000.0, 1000.0, 6000.0, 1000.0, 2000.0, 2500.0, 1000.0, 1500.0, 7500.0, 1000.0, 1000.0, 1000.0, 1500.0, 3000.0, 1000.0, 1500.0, 2500.0, 1000.0, 600.0, 1500.0, 2000.0, 450.0, 2000.0, 1000.0, 2500.0, 3500.0, 2500.0, 2500.0, 2500.0, 1000.0, 1000.0, 5000.0, 1500.0, 2000.0, 2000.0, 2500.0, 1200.0, 7000.0, 1500.0, 2000.0, 3000.0, 700.0, 4000.0, 8000.0, 1000.0, 1000.0, 1200.0, 3000.0, 1000.0, 1000.0, 3000.0, 500.0, 6000.0, 1100.0, 2500.0, 1500.0, 2500.0, 3000.0, 500.0, 4000.0, 7500.0, 5000.0, 5000.0, 1200.0, 1400.0, 1200.0, 3000.0, 1200.0, 1500.0, 2500.0, 1000.0, 1000.0, 2500.0, 2500.0, 2500.0, 3000.0, 3000.0, 6000.0, 1000.0, 2000.0, 1000.0, 2000.0, 3000.0, 3000.0, 1000.0, 2500.0, 1000.0, 2500.0, 7000.0, 3000.0, 500.0, 1000.0, 1000.0, 2500.0, 1200.0, 2000.0, 2000.0, 1000.0, 1500.0, 1000.0, 1000.0, 1000.0, 6000.0, 500.0, 6000.0, 1000.0, 1000.0, 1200.0, 3000.0, 2500.0, 1500.0, 2500.0, 3000.0, 1200.0, 2500.0, 1000.0, 1500.0, 2500.0, 1200.0, 5000.0, 1000.0, 1000.0, 1050.0, 5500.0, 1200.0, 1500.0, 1000.0, 2000.0, 1000.0, 2500.0, 3000.0, 3000.0, 2500.0, 1200.0, 2000.0, 4000.0, 2500.0, 1800.0, 1000.0, 1800.0, 1000.0, 2500.0, 4000.0, 500.0, 1200.0, 2500.0, 1200.0, 1000.0, 2000.0, 500.0, 1000.0, 1833.333333, 2300.0, 2500.0, 1000.0, 1300.0, 2500.0, 1000.0, 1000.0, 2000.0, 3000.0, 6600.0, 4000.0, 1200.0, 6000.0, 4000.0, 4000.0, 1500.0, 4000.0, 4000.0, 4000.0, 3000.0, 1200.0, 1000.0, 1000.0, 1500.0, 1500.0, 4000.0, 1000.0, 1200.0, 2000.0, 1000.0, 2000.0, 3000.0, 2500.0, 2000.0, 4000.0, 2000.0, 3000.0, 3000.0, 2500.0, 3000.0, 1500.0, 2000.0, 2000.0, 4000.0, 2500.0, 500.0, 2500.0, 1000.0, 2500.0, 1500.0, 2500.0, 2000.0, 2500.0, 2000.0, 1400.0, 10000.0, 3000.0, 2500.0, 2000.0, 1000.0, 2500.0, 1000.0, 1500.0, 1000.0, 500.0, 1000.0, 1000.0, 1200.0, 1200.0, 3000.0, 1200.0, 3000.0, 3500.0, 1500.0, 1500.0, 1500.0, 1000.0, 1800.0, 3000.0, 1200.0, 2000.0, 2500.0, 1200.0, 1500.0, 1200.0, 1000.0, 1000.0, 1000.0, 2000.0, 1800.0, 1500.0, 1200.0, 500.0, 1000.0, 1200.0, 1200.0, 3000.0, 1200.0, 8000.0, 1500.0, 3500.0, 1000.0, 1000.0, 1200.0, 2000.0, 1400.0, 1500.0, 1200.0, 1000.0, 2000.0, 1500.0, 6000.0, 1200.0, 500.0, 1000.0, 1500.0, 1200.0, 1000.0, 1500.0, 500.0, 1000.0, 500.0, 1500.0, 500.0, 1500.0, 500.0, 1200.0, 500.0, 1000.0, 500.0, 2500.0, 1200.0, 1500.0, 1200.0, 1000.0, 1000.0, 1500.0, 500.0, 1000.0, 1200.0, 3500.0, 1000.0, 1300.0, 1000.0, 700.0, 1000.0, 1000.0, 1200.0, 3000.0, 500.0, 1000.0, 500.0, 3000.0, 1400.0, 1000.0, 1000.0, 1200.0, 1000.0, 1500.0, 2500.0, 1200.0, 1200.0, 500.0, 3000.0, 1000.0, 3000.0, 1000.0, 1200.0, 1000.0, 500.0, 500.0, 1500.0, 500.0, 1000.0, 1500.0, 2000.0, 3000.0, 1500.0, 1500.0, 1500.0, 1500.0, 1000.0, 500.0, 2000.0, 2000.0, 1200.0, 3000.0, 1500.0, 1000.0, 1200.0, 1200.0, 1000.0, 4000.0, 1200.0, 1500.0, 1500.0, 2000.0, 1500.0, 6000.0, 3000.0, 500.0, 1500.0, 3000.0, 2000.0, 1200.0, 5000.0, 1200.0, 1500.0, 1500.0, 1000.0, 1000.0, 500.0, 2500.0, 500.0, 4500.0, 1500.0, 1000.0, 1000.0, 1500.0, 9000.0, 1000.0, 1200.0, 1200.0, 2000.0, 1500.0, 1000.0, 1000.0, 2500.0, 1000.0, 1500.0, 500.0, 1000.0, 1500.0, 1500.0, 3000.0, 1000.0, 1500.0, 1000.0, 3000.0, 6500.0, 1800.0, 1000.0, 1000.0, 3000.0, 1200.0, 1500.0, 500.0, 1000.0, 1500.0, 1000.0, 1200.0, 9000.0, 1400.0, 1500.0, 5000.0, 1000.0, 1500.0, 13000.0, 1200.0, 6000.0, 3000.0, 1000.0, 3150.0, 1500.0, 1500.0, 1000.0, 500.0, 1000.0, 1000.0, 500.0, 1500.0, 4000.0, 3000.0, 1000.0, 1000.0, 1000.0, 1500.0, 1200.0, 2500.0, 500.0, 1500.0, 1500.0, 1000.0, 9000.0, 1000.0, 1500.0, 1000.0, 1000.0, 9000.0, 1000.0, 1000.0, 3000.0, 1200.0, 1200.0, 1500.0, 1500.0, 500.0, 1000.0, 500.0, 2500.0, 1000.0, 1500.0, 1000.0, 1000.0, 500.0, 500.0, 2400.0, 1200.0, 1000.0, 2500.0, 3000.0, 1000.0, 1500.0, 1000.0, 1000.0, 500.0, 1200.0, 1000.0, 5000.0, 500.0, 1000.0, 500.0, 1000.0, 1500.0, 1000.0, 500.0, 1200.0, 7000.0, 1500.0, 500.0, 2000.0, 1000.0, 1000.0, 2500.0, 1000.0, 1200.0, 1000.0, 1500.0, 1000.0, 1500.0, 1000.0, 1500.0, 2500.0, 1500.0, 1200.0, 500.0, 500.0, 500.0, 1000.0, 3000.0, 1000.0, 1000.0, 3000.0, 5000.0, 3000.0, 1200.0, 500.0, 2000.0, 3000.0, 3000.0, 1000.0, 1500.0, 2000.0, 1500.0, 1000.0, 1200.0, 1500.0, 1200.0, 500.0, 500.0, 1000.0, 10000.0, 3000.0, 1500.0, 1000.0, 1000.0, 1200.0, 4000.0, 2000.0, 500.0, 1000.0, 1000.0, 500.0, 3000.0, 1000.0, 1000.0, 1000.0, 1000.0, 1000.0, 1000.0, 500.0, 1000.0, 1200.0, 1000.0, 500.0, 2500.0, 500.0, 1000.0, 500.0, 1500.0, 500.0, 1000.0, 1000.0, 2000.0, 1000.0, 1000.0, 500.0, 1000.0, 1500.0, 1200.0, 2000.0, 1200.0, 500.0, 500.0, 1500.0, 500.0, 1500.0, 1500.0, 1000.0, 1000.0, 1000.0, 1500.0, 1000.0, 1000.0, 1000.0, 1000.0, 1000.0, 1500.0, 2000.0, 1000.0, 1500.0, 2500.0, 1000.0, 1500.0, 2000.0, 1500.0, 1500.0, 1200.0, 3000.0, 1000.0, 1500.0, 1000.0, 1000.0, 1500.0, 1000.0, 1500.0, 1000.0, 1000.0, 1500.0, 1500.0, 1000.0, 1000.0, 1200.0, 1000.0, 1000.0, 9000.0, 1000.0, 500.0, 4000.0, 1000.0, 1000.0, 1000.0, 500.0, 1200.0]\n"
          ]
        }
      ]
    },
    {
      "cell_type": "code",
      "source": [
        "from sklearn.preprocessing import StandardScaler"
      ],
      "metadata": {
        "id": "5RmJY9_i3Wk8"
      },
      "execution_count": null,
      "outputs": []
    },
    {
      "cell_type": "code",
      "source": [
        "sc = StandardScaler()"
      ],
      "metadata": {
        "id": "nXJHr3be20Ql"
      },
      "execution_count": null,
      "outputs": []
    },
    {
      "cell_type": "code",
      "source": [
        "x = df.iloc[:,1:]"
      ],
      "metadata": {
        "id": "366J9lry4qvX"
      },
      "execution_count": null,
      "outputs": []
    },
    {
      "cell_type": "code",
      "source": [
        "x_sc = sc.fit_transform(x)"
      ],
      "metadata": {
        "id": "qLSNhMFj45qh"
      },
      "execution_count": null,
      "outputs": []
    },
    {
      "cell_type": "code",
      "source": [
        "x_sc"
      ],
      "metadata": {
        "colab": {
          "base_uri": "https://localhost:8080/"
        },
        "id": "yOqUljai5Dqy",
        "outputId": "5c741127-df86-4590-f1d4-9f18422f61df"
      },
      "execution_count": null,
      "outputs": [
        {
          "output_type": "execute_result",
          "data": {
            "text/plain": [
              "array([[-0.73198937, -0.24943448, -0.42489974, ..., -0.3024    ,\n",
              "        -0.52555097,  0.36067954],\n",
              "       [ 0.78696085,  0.13432467, -0.46955188, ...,  0.09749953,\n",
              "         0.2342269 ,  0.36067954],\n",
              "       [ 0.44713513,  0.51808382, -0.10766823, ..., -0.0932934 ,\n",
              "        -0.52555097,  0.36067954],\n",
              "       ...,\n",
              "       [-0.7403981 , -0.18547673, -0.40196519, ..., -0.32687479,\n",
              "         0.32919999, -4.12276757],\n",
              "       [-0.74517423, -0.18547673, -0.46955188, ..., -0.33830497,\n",
              "         0.32919999, -4.12276757],\n",
              "       [-0.57257511, -0.88903307,  0.04214581, ..., -0.3243581 ,\n",
              "        -0.52555097, -4.12276757]])"
            ]
          },
          "metadata": {},
          "execution_count": 13
        }
      ]
    },
    {
      "cell_type": "code",
      "source": [
        "from sklearn.decomposition import PCA\n",
        "pca = PCA(n_components=2)"
      ],
      "metadata": {
        "id": "2E2yZ4CD5N_e"
      },
      "execution_count": null,
      "outputs": []
    },
    {
      "cell_type": "code",
      "source": [
        "x_pca = pca.fit_transform(x_sc)\n",
        "x_pca"
      ],
      "metadata": {
        "colab": {
          "base_uri": "https://localhost:8080/"
        },
        "id": "xH0QpIOC564E",
        "outputId": "692fc70c-6efa-40f9-fa21-78508ff6e8ed"
      },
      "execution_count": null,
      "outputs": [
        {
          "output_type": "execute_result",
          "data": {
            "text/plain": [
              "array([[-1.68366874, -1.07225496],\n",
              "       [-1.13417293,  2.50908358],\n",
              "       [ 0.9694241 , -0.38355473],\n",
              "       ...,\n",
              "       [-0.92896466, -1.80803063],\n",
              "       [-2.33785025, -0.65361363],\n",
              "       [-0.55801638, -0.40064157]])"
            ]
          },
          "metadata": {},
          "execution_count": 14
        }
      ]
    },
    {
      "cell_type": "code",
      "source": [
        ""
      ],
      "metadata": {
        "colab": {
          "base_uri": "https://localhost:8080/",
          "height": 165
        },
        "id": "H7QOqw7ySVTn",
        "outputId": "280d2cee-b9ed-46d4-9772-4aa9cc60b707"
      },
      "execution_count": null,
      "outputs": [
        {
          "output_type": "error",
          "ename": "AttributeError",
          "evalue": "ignored",
          "traceback": [
            "\u001b[0;31m---------------------------------------------------------------------------\u001b[0m",
            "\u001b[0;31mAttributeError\u001b[0m                            Traceback (most recent call last)",
            "\u001b[0;32m<ipython-input-29-2c7a5d542dd0>\u001b[0m in \u001b[0;36m<module>\u001b[0;34m()\u001b[0m\n\u001b[0;32m----> 1\u001b[0;31m \u001b[0mx_pca\u001b[0m\u001b[0;34m.\u001b[0m\u001b[0mhead\u001b[0m\u001b[0;34m(\u001b[0m\u001b[0;34m)\u001b[0m\u001b[0;34m\u001b[0m\u001b[0;34m\u001b[0m\u001b[0m\n\u001b[0m",
            "\u001b[0;31mAttributeError\u001b[0m: 'numpy.ndarray' object has no attribute 'head'"
          ]
        }
      ]
    },
    {
      "cell_type": "code",
      "source": [
        ""
      ],
      "metadata": {
        "id": "B3uCFJuVTCSg"
      },
      "execution_count": null,
      "outputs": []
    },
    {
      "cell_type": "code",
      "source": [
        "from sklearn.cluster import KMeans\n"
      ],
      "metadata": {
        "id": "GML9xtr68new"
      },
      "execution_count": null,
      "outputs": []
    },
    {
      "cell_type": "code",
      "source": [
        "wcss=[]\n",
        "for i in  range (1,20):\n",
        "  m=KMeans(n_clusters=i)\n",
        "  m.fit(x_pca)\n",
        "  wcss.append(m.inertia_)\n",
        "\n",
        "\n"
      ],
      "metadata": {
        "id": "DkbT261ilzwh"
      },
      "execution_count": null,
      "outputs": []
    },
    {
      "cell_type": "code",
      "source": [
        "plt.plot(range(1,20),wcss)\n",
        "plt.title('Elbow method')\n",
        "plt.xlabel('No of clusters-K')\n",
        "plt.ylabel('WCSS')\n",
        "plt.grid()\n",
        "plt.show()"
      ],
      "metadata": {
        "colab": {
          "base_uri": "https://localhost:8080/",
          "height": 295
        },
        "id": "i036hvfK7UIf",
        "outputId": "ec448a26-94b1-4962-96c8-2a4716d801e3"
      },
      "execution_count": null,
      "outputs": [
        {
          "output_type": "display_data",
          "data": {
            "text/plain": [
              "<Figure size 432x288 with 1 Axes>"
            ],
            "image/png": "[encoded data removed]"
          },
          "metadata": {
            "needs_background": "light"
          }
        }
      ]
    },
    {
      "cell_type": "code",
      "source": [
        "m=KMeans(n_clusters=5)"
      ],
      "metadata": {
        "id": "98TCzBME9jWs"
      },
      "execution_count": null,
      "outputs": []
    },
    {
      "cell_type": "code",
      "source": [
        "m.fit(x_pca)"
      ],
      "metadata": {
        "colab": {
          "base_uri": "https://localhost:8080/"
        },
        "id": "0FYi0xfPFOG1",
        "outputId": "6bcdb8df-3cdc-4dd9-da70-1f78f7f0d07d"
      },
      "execution_count": null,
      "outputs": [
        {
          "output_type": "execute_result",
          "data": {
            "text/plain": [
              "KMeans(n_clusters=5)"
            ]
          },
          "metadata": {},
          "execution_count": 20
        }
      ]
    },
    {
      "cell_type": "code",
      "source": [
        "ypred=m.predict(x_pca)\n",
        "ypred"
      ],
      "metadata": {
        "colab": {
          "base_uri": "https://localhost:8080/"
        },
        "id": "_JA-9YFzN_XA",
        "outputId": "d12fc99b-33fa-4c42-b9b5-0c63d5fe14ed"
      },
      "execution_count": null,
      "outputs": [
        {
          "output_type": "execute_result",
          "data": {
            "text/plain": [
              "array([0, 3, 1, ..., 1, 0, 0], dtype=int32)"
            ]
          },
          "metadata": {},
          "execution_count": 21
        }
      ]
    },
    {
      "cell_type": "code",
      "source": [
        "cent = m.cluster_centers_\n",
        "cent"
      ],
      "metadata": {
        "colab": {
          "base_uri": "https://localhost:8080/"
        },
        "id": "8_NR-vTSRowl",
        "outputId": "910e8ff3-8c5c-4bfe-e84c-ca1e2d8b87f6"
      },
      "execution_count": null,
      "outputs": [
        {
          "output_type": "execute_result",
          "data": {
            "text/plain": [
              "array([[-1.4558622 ,  0.02830164],\n",
              "       [ 0.31691957, -1.28436144],\n",
              "       [ 3.35654826, -0.25980056],\n",
              "       [-0.5367329 ,  3.60095975],\n",
              "       [11.08819706,  2.78043089]])"
            ]
          },
          "metadata": {},
          "execution_count": 22
        }
      ]
    },
    {
      "cell_type": "code",
      "source": [
        "plt.scatter(x_pca[:,0],x_pca[:,1],c=ypred)\n",
        "plt.scatter(cent[:,0],cent[:,1],color='red',marker='*',s=150,label='Centroid')\n",
        "plt.show()"
      ],
      "metadata": {
        "colab": {
          "base_uri": "https://localhost:8080/",
          "height": 265
        },
        "id": "mLhhH-4mR3Nu",
        "outputId": "2ab59763-11ea-4fb9-9a0a-70c106f34712"
      },
      "execution_count": null,
      "outputs": [
        {
          "output_type": "display_data",
          "data": {
            "text/plain": [
              "<Figure size 432x288 with 1 Axes>"
            ],
            "image/png": "[encoded data removed]"
          },
          "metadata": {
            "needs_background": "light"
          }
        }
      ]
    },
    {
      "cell_type": "code",
      "source": [
        "from sklearn.metrics import silhouette_score\n",
        "silhouette_score(x_pca,ypred)"
      ],
      "metadata": {
        "colab": {
          "base_uri": "https://localhost:8080/"
        },
        "id": "VpSZ785Rg-E8",
        "outputId": "dbb6b6f2-f11d-45d4-99d6-a2f1bb7b3309"
      },
      "execution_count": null,
      "outputs": [
        {
          "output_type": "execute_result",
          "data": {
            "text/plain": [
              "0.40028667280323144"
            ]
          },
          "metadata": {},
          "execution_count": 26
        }
      ]
    }
  ]
}